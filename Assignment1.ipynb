{
 "cells": [
  {
   "cell_type": "code",
   "execution_count": 17,
   "id": "94feedfc-434c-4b96-8394-ef08300a1b00",
   "metadata": {},
   "outputs": [
    {
     "name": "stdout",
     "output_type": "stream",
     "text": [
      "Bulbs which are on after the 100th person : [1, 4, 9, 16, 25, 36, 49, 64, 81, 100]\n",
      "The total number of bulbs which are on : 10\n"
     ]
    }
   ],
   "source": [
    "bulb = [0] * 100 \n",
    "\n",
    "for person in range(1,101):\n",
    "    for i in range(person - 1,100,person):\n",
    "        bulb[i]= 1 - bulb[i]                      \n",
    "        \n",
    "person100= [i+1 for i in range(100) if bulb[i]==1] \n",
    "\n",
    "print(\"Bulbs which are on after the 100th person :\",person100)\n",
    "print(\"The total number of bulbs which are on :\",len(person100))"
   ]
  }
 ],
 "metadata": {
  "kernelspec": {
   "display_name": "Python 3 (ipykernel)",
   "language": "python",
   "name": "python3"
  },
  "language_info": {
   "codemirror_mode": {
    "name": "ipython",
    "version": 3
   },
   "file_extension": ".py",
   "mimetype": "text/x-python",
   "name": "python",
   "nbconvert_exporter": "python",
   "pygments_lexer": "ipython3",
   "version": "3.12.7"
  }
 },
 "nbformat": 4,
 "nbformat_minor": 5
}
