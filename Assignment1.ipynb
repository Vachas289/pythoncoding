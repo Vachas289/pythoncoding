{
 "cells": [
  {
   "cell_type": "code",
   "execution_count": 17,
   "id": "94feedfc-434c-4b96-8394-ef08300a1b00",
   "metadata": {},
   "outputs": [
    {
     "name": "stdout",
     "output_type": "stream",
     "text": [
      "Bulbs which are on after the 100th person : [1, 4, 9, 16, 25, 36, 49, 64, 81, 100]\n",
      "The total number of bulbs which are on : 10\n"
     ]
    }
   ],
   "source": [
    "bulb = [0] * 100 \n",
    "\n",
    "for person in range(1,101):\n",
    "    for i in range(person - 1,100,person):\n",
    "        bulb[i]= 1 - bulb[i]                      \n",
    "        \n",
    "person100= [i+1 for i in range(100) if bulb[i]==1] \n",
    "\n",
    "print(\"Bulbs which are on after the 100th person :\",person100)\n",
    "print(\"The total number of bulbs which are on :\",len(person100))"
   ]
  },
  {
   "cell_type": "code",
   "execution_count": 33,
   "id": "49a3fc37-d1e8-4568-a062-a279d3a327ed",
   "metadata": {},
   "outputs": [
    {
     "name": "stdout",
     "output_type": "stream",
     "text": [
      "[1, 4, 9, 16, 25, 36, 49, 64, 81, 100]\n",
      "10\n"
     ]
    }
   ],
   "source": [
    "#using while loop for the assignment 1\n",
    "\n",
    "#initial state\n",
    "bulb = [0] * 100 \n",
    "person =1\n",
    "\n",
    "while person <=100:\n",
    "    i= person-1\n",
    "    while i < 100:\n",
    "        bulb[i] = 1-bulb[i]\n",
    "        i= i + person \n",
    "    person = person + 1\n",
    "#intial on bulbs with the intital index\n",
    "on_b =[]\n",
    "i=0\n",
    "while i< 100:\n",
    "    if bulb[i] == 1:\n",
    "        on_b.append(i + 1)\n",
    "    i= i+1\n",
    "print(on_b)\n",
    "print(len(on_b))"
   ]
  },
  {
   "cell_type": "code",
   "execution_count": 32,
   "id": "7bebbe37-fa75-4a33-a8c1-4a9b9788a6be",
   "metadata": {},
   "outputs": [
    {
     "name": "stdout",
     "output_type": "stream",
     "text": [
      "[1, 4, 9, 16, 25, 36, 49]\n",
      "7\n"
     ]
    }
   ],
   "source": [
    "bulb = [0] * 59\n",
    "person =1\n",
    "while person<= 59:\n",
    "    i= person-1\n",
    "    while i<59:\n",
    "        bulb[i] = 1-bulb[i]\n",
    "        i = i+person\n",
    "    person = person +1\n",
    "on_b=[]\n",
    "i=0\n",
    "while i <59:\n",
    "    if bulb[i] ==1:\n",
    "        on_b.append(i+1)\n",
    "    i = i+1\n",
    "print(on_b)\n",
    "print(len(on_b))\n",
    "    "
   ]
  },
  {
   "cell_type": "code",
   "execution_count": 2,
   "id": "63e27067-a544-4e20-a8c0-e3a6a1f4a31e",
   "metadata": {},
   "outputs": [
    {
     "name": "stdout",
     "output_type": "stream",
     "text": [
      "[1, 4, 9, 16, 25, 36, 49, 64, 81, 100]\n",
      "10\n"
     ]
    }
   ],
   "source": [
    "import math \n",
    "n = 100\n",
    "bulb = []\n",
    "for i in range(1,n+1):\n",
    "    if int(math.sqrt(i))**2 == i:\n",
    "        bulb.append(i)\n",
    "print(bulb)\n",
    "print(len(bulb))"
   ]
  },
  {
   "cell_type": "code",
   "execution_count": null,
   "id": "c847deea-306d-462a-8e97-f9e35dda6d1a",
   "metadata": {},
   "outputs": [],
   "source": []
  }
 ],
 "metadata": {
  "kernelspec": {
   "display_name": "Python 3 (ipykernel)",
   "language": "python",
   "name": "python3"
  },
  "language_info": {
   "codemirror_mode": {
    "name": "ipython",
    "version": 3
   },
   "file_extension": ".py",
   "mimetype": "text/x-python",
   "name": "python",
   "nbconvert_exporter": "python",
   "pygments_lexer": "ipython3",
   "version": "3.12.7"
  }
 },
 "nbformat": 4,
 "nbformat_minor": 5
}
