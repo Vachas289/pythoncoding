{
 "cells": [
  {
   "cell_type": "code",
   "execution_count": 3,
   "id": "395edf1b-de5b-4448-a9ae-e1f161415532",
   "metadata": {},
   "outputs": [
    {
     "name": "stdout",
     "output_type": "stream",
     "text": [
      "Z-statistic: 0.8432740427115686\n",
      "P-value: 0.39907519654823687\n"
     ]
    }
   ],
   "source": [
    "\"\"\"\n",
    "\n",
    "Z- Test \n",
    "\n",
    "\"\"\"\n",
    "import numpy as np\n",
    "from scipy import stats \n",
    "\n",
    "data = [12, 15, 14, 16, 15, 13, 15, 14, 16, 14]\n",
    "\n",
    "population_mean = 14\n",
    "\n",
    "population_std = 1.5\n",
    "\n",
    "sample_mean = np.mean(data)\n",
    "\n",
    "n = len(data)\n",
    "\n",
    "z = (sample_mean - population_mean) / (population_std / np.sqrt(n))\n",
    "p_value = 2 * (1 - stats.norm.cdf(abs(z)))\n",
    "\n",
    "print(\"Z-statistic:\", z)\n",
    "print(\"P-value:\", p_value)\n"
   ]
  },
  {
   "cell_type": "code",
   "execution_count": 5,
   "id": "641f5f19-2e26-437a-9253-718aab76d1d6",
   "metadata": {},
   "outputs": [
    {
     "name": "stdout",
     "output_type": "stream",
     "text": [
      "T-statistic: 1.0000000000000009\n",
      "P-value: 0.34343639613791305\n"
     ]
    }
   ],
   "source": [
    "\"\"\"\n",
    "\n",
    "T-Test One Sample\n",
    "\n",
    "\"\"\"\n",
    "t_statistic, p_value = stats.ttest_1samp(data, population_mean)\n",
    "\n",
    "print(\"T-statistic:\", t_statistic)\n",
    "print(\"P-value:\", p_value)\n"
   ]
  },
  {
   "cell_type": "code",
   "execution_count": 10,
   "id": "355a33fd-79fe-49e0-957e-01446f46d849",
   "metadata": {},
   "outputs": [
    {
     "name": "stdout",
     "output_type": "stream",
     "text": [
      "t-statistics 1.0540925533894607\n"
     ]
    }
   ],
   "source": [
    "\"\"\"\n",
    "\n",
    "T -test One Sample using logic\n",
    "\n",
    "\"\"\"\n",
    "sample_mean = np.mean(data)\n",
    "sample_std = np.std(data)\n",
    "t_statistic = (sample_mean - population_mean) / (sample_std / np.sqrt(n))\n",
    "print(\"t-statistics\",t_statistic)"
   ]
  },
  {
   "cell_type": "code",
   "execution_count": 14,
   "id": "ec9b9377-75be-409c-8f6c-10c8c1ca78b8",
   "metadata": {},
   "outputs": [
    {
     "name": "stdout",
     "output_type": "stream",
     "text": [
      "T-statistic: -10.067340828210366\n",
      "P-value: 8.053738934890404e-09\n"
     ]
    }
   ],
   "source": [
    "\"\"\"\n",
    "\n",
    "T- test 2 Sample\n",
    "\n",
    "\"\"\"\n",
    "group1 = [68, 75, 70, 72, 71, 69, 73, 74, 70, 72]\n",
    "group2 = [78, 85, 80, 82, 81, 79, 83, 84, 80, 82]\n",
    "\n",
    "t_statistic, p_value = stats.ttest_ind(group1, group2)\n",
    "\n",
    "print(\"T-statistic:\", t_statistic)\n",
    "print(\"P-value:\", p_value)\n"
   ]
  },
  {
   "cell_type": "code",
   "execution_count": 15,
   "id": "f28096fe-9a47-4505-8488-a49c31f168e2",
   "metadata": {},
   "outputs": [
    {
     "name": "stdout",
     "output_type": "stream",
     "text": [
      "Mean of Group 1: 71.4\n",
      "Mean of Group 2: 81.4\n",
      "Pooled Standard Deviation: 2.1071307505705477\n",
      "T-statistic: -10.611908999450222\n"
     ]
    }
   ],
   "source": [
    "\"\"\"\n",
    "\n",
    "T- test 2 Sample with logic\n",
    "\n",
    "\"\"\"\n",
    "\n",
    "mean1 = np.mean(group1)\n",
    "mean2 = np.mean(group2)\n",
    "std1 = np.std(group1)\n",
    "std2 = np.std(group2)\n",
    "n1 = len(group1)\n",
    "n2 = len(group2)\n",
    "\n",
    "pooled_std = np.sqrt(((n1 - 1) * std1**2 + (n2 - 1) * std2**2) / (n1 + n2 - 2))\n",
    "\n",
    "t_statistic = (mean1 - mean2) / (pooled_std * np.sqrt(1/n1 + 1/n2))\n",
    "\n",
    "print(\"Mean of Group 1:\", mean1)\n",
    "print(\"Mean of Group 2:\", mean2)\n",
    "print(\"Pooled Standard Deviation:\", pooled_std)\n",
    "print(\"T-statistic:\", t_statistic)\n"
   ]
  },
  {
   "cell_type": "code",
   "execution_count": 20,
   "id": "b252e40e-906b-4622-9772-b3544b1cc44f",
   "metadata": {},
   "outputs": [
    {
     "name": "stdout",
     "output_type": "stream",
     "text": [
      "T-statistic: -2.25\n",
      "P-value: 0.08764517650339462\n"
     ]
    }
   ],
   "source": [
    "\"\"\"\n",
    "\n",
    "T- test Paired \n",
    "\n",
    "\"\"\"\n",
    "before = [12, 14, 15, 16, 14]\n",
    "after = [15, 14, 17, 16, 18]\n",
    "\n",
    "t_statistic, p_value = stats.ttest_rel(before, after)\n",
    "\n",
    "print(\"T-statistic:\", t_statistic)\n",
    "print(\"P-value:\", p_value)\n"
   ]
  },
  {
   "cell_type": "code",
   "execution_count": 21,
   "id": "638af277-f19c-42e6-b91b-0c0a9babbca2",
   "metadata": {},
   "outputs": [
    {
     "name": "stdout",
     "output_type": "stream",
     "text": [
      "Mean Difference: 1.8\n",
      "Standard Deviation of Differences: 1.6\n",
      "T-statistic: 2.5155764746872635\n"
     ]
    }
   ],
   "source": [
    "\"\"\"\n",
    "\n",
    "T-test Paired with Logic\n",
    "\n",
    "\"\"\"\n",
    "differences = [after[i] - before[i] for i in range(len(before))]\n",
    "\n",
    "mean_diff = np.mean(differences)\n",
    "std_diff = np.std(differences)\n",
    "n = len(differences)\n",
    "\n",
    "t_statistic = mean_diff / (std_diff / np.sqrt(n))\n",
    "\n",
    "print(\"Mean Difference:\", mean_diff)\n",
    "print(\"Standard Deviation of Differences:\", std_diff)\n",
    "print(\"T-statistic:\", t_statistic)\n"
   ]
  },
  {
   "cell_type": "code",
   "execution_count": 25,
   "id": "9889f761-0139-437d-b081-6cb97c9805eb",
   "metadata": {},
   "outputs": [
    {
     "name": "stdout",
     "output_type": "stream",
     "text": [
      "[[10 20 30]\n",
      " [ 6  9 17]]\n",
      "Chi-square statistic: 0.27157465150403504\n",
      "P-value: 0.873028283380073\n",
      "Degrees of freedom: 2\n",
      "Expected frequencies:\n",
      " [[10.43478261 18.91304348 30.65217391]\n",
      " [ 5.56521739 10.08695652 16.34782609]]\n"
     ]
    }
   ],
   "source": [
    "\"\"\"\n",
    "\n",
    "Chi-Square Test \n",
    "\n",
    "\"\"\"\n",
    "observed = np.array([[10, 20, 30], [6, 9, 17]])\n",
    "print(observed)\n",
    "chi2_statistic, p_value, dof, expected = stats.chi2_contingency(observed)\n",
    "\n",
    "print(\"Chi-square statistic:\", chi2_statistic)\n",
    "print(\"P-value:\", p_value)\n",
    "print(\"Degrees of freedom:\", dof)\n",
    "print(\"Expected frequencies:\\n\", expected)\n"
   ]
  },
  {
   "cell_type": "code",
   "execution_count": 26,
   "id": "59e6d69b-404b-4036-b7db-ab4d32343cb6",
   "metadata": {},
   "outputs": [
    {
     "name": "stdout",
     "output_type": "stream",
     "text": [
      "Chi-square statistic: 0.27157465150403504\n",
      "Degrees of freedom: 2\n",
      "Expected frequencies:\n",
      " [[10.43478261 18.91304348 30.65217391]\n",
      " [ 5.56521739 10.08695652 16.34782609]]\n"
     ]
    }
   ],
   "source": [
    "\"\"\"\n",
    "\n",
    "Chi-Square Test with logic\n",
    "\n",
    "\"\"\"\n",
    "row_totals = observed.sum(axis=1)\n",
    "col_totals = observed.sum(axis=0)\n",
    "total = observed.sum()\n",
    "\n",
    "expected = np.outer(row_totals, col_totals) / total\n",
    "\n",
    "chi2_statistic = ((observed - expected) ** 2 / expected).sum()\n",
    "\n",
    "dof = (observed.shape[0] - 1) * (observed.shape[1] - 1)\n",
    "\n",
    "print(\"Chi-square statistic:\", chi2_statistic)\n",
    "print(\"Degrees of freedom:\", dof)\n",
    "print(\"Expected frequencies:\\n\", expected)\n"
   ]
  },
  {
   "cell_type": "code",
   "execution_count": 27,
   "id": "e517c67d-08da-4c8b-b532-3ebe4d13fd4e",
   "metadata": {},
   "outputs": [
    {
     "name": "stdout",
     "output_type": "stream",
     "text": [
      "F-statistic: 7.000000000000002\n",
      "P-value: 0.009666013301955795\n"
     ]
    }
   ],
   "source": [
    "\"\"\"\n",
    "\n",
    "One Way Anova \n",
    "\n",
    "\"\"\"\n",
    "group1 = [12, 14, 15, 16, 14]\n",
    "group2 = [15, 16, 17, 18, 16]\n",
    "group3 = [13, 14, 15, 13, 14]\n",
    "\n",
    "f_statistic, p_value = stats.f_oneway(group1, group2, group3)\n",
    "\n",
    "print(\"F-statistic:\", f_statistic)\n",
    "print(\"P-value:\", p_value)\n"
   ]
  },
  {
   "cell_type": "code",
   "execution_count": 29,
   "id": "3fb54a42-ccba-47d1-bb70-06ac673d4fc1",
   "metadata": {},
   "outputs": [
    {
     "name": "stdout",
     "output_type": "stream",
     "text": [
      "Between-Group Variability (SSB): 19.599999999999973\n",
      "Within-Group Variability (SSW): 16.8\n",
      "Mean Squares Between (MSB): 9.799999999999986\n",
      "Mean Squares Within (MSW): 1.4000000000000001\n",
      "F-statistic: 6.999999999999989\n"
     ]
    }
   ],
   "source": [
    "\"\"\"\n",
    "\n",
    "One Way Anova with logic\n",
    "\n",
    "\"\"\"\n",
    "mean1 = np.mean(group1)\n",
    "mean2 = np.mean(group2)\n",
    "mean3 = np.mean(group3)\n",
    "overall_mean = np.mean(group1 + group2 + group3)\n",
    "\n",
    "#SSB\n",
    "SSB = len(group1) * (mean1 - overall_mean) ** 2 + len(group2) * (mean2 - overall_mean) ** 2 + len(group3) * (mean3 - overall_mean) ** 2\n",
    "\n",
    "#SSW\n",
    "SSW = sum((x - mean1) ** 2 for x in group1) + sum((x - mean2) ** 2 for x in group2) + sum((x - mean3) ** 2 for x in group3)\n",
    "\n",
    "df_between = 2\n",
    "df_within = (len(group1) - 1) + (len(group2) - 1) + (len(group3) - 1)\n",
    "\n",
    "#meansquares\n",
    "MSB = SSB / df_between\n",
    "MSW = SSW / df_within\n",
    "\n",
    "F = MSB / MSW\n",
    "print(\"Between-Group Variability (SSB):\", SSB)\n",
    "print(\"Within-Group Variability (SSW):\", SSW)\n",
    "print(\"Mean Squares Between (MSB):\", MSB)\n",
    "print(\"Mean Squares Within (MSW):\", MSW)\n",
    "print(\"F-statistic:\", F)\n"
   ]
  },
  {
   "cell_type": "code",
   "execution_count": null,
   "id": "6840f271-5a43-451f-8c87-84eab08573ed",
   "metadata": {},
   "outputs": [],
   "source": []
  }
 ],
 "metadata": {
  "kernelspec": {
   "display_name": "Python 3 (ipykernel)",
   "language": "python",
   "name": "python3"
  },
  "language_info": {
   "codemirror_mode": {
    "name": "ipython",
    "version": 3
   },
   "file_extension": ".py",
   "mimetype": "text/x-python",
   "name": "python",
   "nbconvert_exporter": "python",
   "pygments_lexer": "ipython3",
   "version": "3.12.7"
  }
 },
 "nbformat": 4,
 "nbformat_minor": 5
}
