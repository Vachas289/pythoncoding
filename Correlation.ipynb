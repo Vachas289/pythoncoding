{
 "cells": [
  {
   "cell_type": "code",
   "execution_count": 5,
   "id": "cf226b8f-d1f3-400e-8638-4d6304130d9b",
   "metadata": {},
   "outputs": [
    {
     "name": "stdout",
     "output_type": "stream",
     "text": [
      "    Experience        Salary\n",
      "0            7  58062.629112\n",
      "1           20  86781.200143\n",
      "2           15  69639.949392\n",
      "3           11  67017.664489\n",
      "4            8  57808.180125\n",
      "..         ...           ...\n",
      "95          12  67282.768043\n",
      "96           2  39126.591649\n",
      "97           1  45935.423019\n",
      "98          16  77792.977895\n",
      "99           5  45896.588408\n",
      "\n",
      "[100 rows x 2 columns]\n",
      "Pearson Correlation between Experience and Salary: 0.9203970151200523\n",
      "Spearman Rank Correlation between Experience and Salary: 0.9257535635097826\n"
     ]
    }
   ],
   "source": [
    "import pandas as pd\n",
    "import numpy as np\n",
    "\n",
    "# Sample data\n",
    "np.random.seed(42)\n",
    "n = 100\n",
    "experience = np.random.randint(1, 21, size=n)  # Years of experience\n",
    "salary = 40000 + experience * 2000 + np.random.normal(0, 5000, n)  # Salary based on experience\n",
    "\n",
    "# Create DataFrame\n",
    "df = pd.DataFrame({'Experience': experience, 'Salary': salary})\n",
    "print (df)\n",
    "\n",
    "# Calculate Pearson correlation coefficient\n",
    "correlation = df['Experience'].corr(df['Salary'])\n",
    "print(f\"Pearson Correlation between Experience and Salary: {correlation}\")\n",
    "\n",
    "# Calculate Spearman rank correlation\n",
    "spearman_corr = df['Experience'].corr(df['Salary'], method='spearman')\n",
    "print(f\"Spearman Rank Correlation between Experience and Salary: {spearman_corr}\")"
   ]
  },
  {
   "cell_type": "code",
   "execution_count": null,
   "id": "79bc74ac-264b-45e1-92c4-2fe1cbbdfda5",
   "metadata": {},
   "outputs": [],
   "source": []
  }
 ],
 "metadata": {
  "kernelspec": {
   "display_name": "Python 3 (ipykernel)",
   "language": "python",
   "name": "python3"
  },
  "language_info": {
   "codemirror_mode": {
    "name": "ipython",
    "version": 3
   },
   "file_extension": ".py",
   "mimetype": "text/x-python",
   "name": "python",
   "nbconvert_exporter": "python",
   "pygments_lexer": "ipython3",
   "version": "3.12.7"
  }
 },
 "nbformat": 4,
 "nbformat_minor": 5
}
