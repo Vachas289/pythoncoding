{
 "cells": [
  {
   "cell_type": "code",
   "execution_count": null,
   "id": "890bddc0-4bb2-4b05-82ef-dbef7a87c10c",
   "metadata": {},
   "outputs": [],
   "source": [
    "\"\"\"Let's assume a customer service center receives, on average, 3 calls per hour. We want to find:\n",
    "\n",
    "The probability that exactly 4 calls will be received in the next hour.\n",
    "The probability that at most 2 calls will be received in the next hour.\"\"\""
   ]
  },
  {
   "cell_type": "code",
   "execution_count": 6,
   "id": "db3c33c5-bb5c-4a5b-8f88-9faf1c7b5e6d",
   "metadata": {},
   "outputs": [
    {
     "name": "stdout",
     "output_type": "stream",
     "text": [
      "Probability of exactly 4 calls: 0.1680\n",
      "Probability of at most 2 calls: 0.4232\n"
     ]
    }
   ],
   "source": [
    "from scipy.stats import poisson\n",
    "\n",
    "\n",
    "lambda_parameter= 3\n",
    "\n",
    "prob_4_calls = poisson.pmf(4, lambda_parameter)\n",
    "print(f\"Probability of exactly 4 calls: {prob_4_calls:.4f}\")\n",
    "\n",
    "prob_at_most_2_calls = poisson.cdf(2, lambda_parameter)\n",
    "print(f\"Probability of at most 2 calls: {prob_at_most_2_calls:.4f}\")\n"
   ]
  },
  {
   "cell_type": "code",
   "execution_count": null,
   "id": "e1004b7f-7af0-4c9f-a5ca-af101866abf7",
   "metadata": {},
   "outputs": [],
   "source": []
  }
 ],
 "metadata": {
  "kernelspec": {
   "display_name": "Python 3 (ipykernel)",
   "language": "python",
   "name": "python3"
  },
  "language_info": {
   "codemirror_mode": {
    "name": "ipython",
    "version": 3
   },
   "file_extension": ".py",
   "mimetype": "text/x-python",
   "name": "python",
   "nbconvert_exporter": "python",
   "pygments_lexer": "ipython3",
   "version": "3.12.7"
  }
 },
 "nbformat": 4,
 "nbformat_minor": 5
}
