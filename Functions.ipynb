{
 "cells": [
  {
   "cell_type": "code",
   "execution_count": 2,
   "id": "0fcdafb5-f949-4c10-a78e-92f188bc5611",
   "metadata": {},
   "outputs": [],
   "source": [
    "def greet(name):\n",
    "    print(f\"Hello, {name}!\")"
   ]
  },
  {
   "cell_type": "code",
   "execution_count": 3,
   "id": "57e5f0b8-b392-4ea9-82b4-db8539c74ffa",
   "metadata": {},
   "outputs": [
    {
     "name": "stdout",
     "output_type": "stream",
     "text": [
      "Hello, Alice!\n"
     ]
    }
   ],
   "source": [
    "greet(\"Alice\")"
   ]
  },
  {
   "cell_type": "code",
   "execution_count": 8,
   "id": "5d040a2a-b4fc-4ea8-9dcb-9ab94b8b0341",
   "metadata": {},
   "outputs": [
    {
     "name": "stdout",
     "output_type": "stream",
     "text": [
      "8\n"
     ]
    }
   ],
   "source": [
    "def add(a,b):\n",
    "    return a+b\n",
    "result = add(3, 5)\n",
    "print(result)"
   ]
  },
  {
   "cell_type": "code",
   "execution_count": 9,
   "id": "1b181fc9-8cfd-40a9-a55e-7e1b298aeac7",
   "metadata": {},
   "outputs": [
    {
     "name": "stdout",
     "output_type": "stream",
     "text": [
      "24\n"
     ]
    }
   ],
   "source": [
    "def multiply(x, y):\n",
    "    return x * y\n",
    "result = multiply(4, 6)\n",
    "print(result)"
   ]
  },
  {
   "cell_type": "code",
   "execution_count": 10,
   "id": "79189f0a-2742-45a7-965c-0ce01ccb6d94",
   "metadata": {},
   "outputs": [],
   "source": [
    "def greet(name=\"Sir/Madem\"):\n",
    "    print(f\"hello,{name}\")"
   ]
  },
  {
   "cell_type": "code",
   "execution_count": 12,
   "id": "c7a69896-7647-4ef3-b8c4-1fefc92687cd",
   "metadata": {},
   "outputs": [
    {
     "name": "stdout",
     "output_type": "stream",
     "text": [
      "hello,vachas\n"
     ]
    }
   ],
   "source": [
    "greet(\"vachas\")"
   ]
  },
  {
   "cell_type": "code",
   "execution_count": 13,
   "id": "7b3760e6-f11a-42bd-a413-207f0485673a",
   "metadata": {},
   "outputs": [
    {
     "name": "stdout",
     "output_type": "stream",
     "text": [
      "hello,Sir/Madem\n"
     ]
    }
   ],
   "source": [
    "greet()"
   ]
  },
  {
   "cell_type": "code",
   "execution_count": 15,
   "id": "08eddc5a-5a2e-4ed1-8382-b5f7023ee946",
   "metadata": {},
   "outputs": [
    {
     "name": "stdout",
     "output_type": "stream",
     "text": [
      "Hello, Vachas! You are 22 years old.\n"
     ]
    }
   ],
   "source": [
    "def greet(name, age):\n",
    "    print(f\"Hello, {name}! You are {age} years old.\")\n",
    "\n",
    "greet(age=22, name=\"Vachas\")"
   ]
  },
  {
   "cell_type": "code",
   "execution_count": 19,
   "id": "a277e8ce-a297-40b9-9262-d09a008aa35c",
   "metadata": {},
   "outputs": [
    {
     "name": "stdout",
     "output_type": "stream",
     "text": [
      "Alice\n",
      "Bob\n",
      "Charlie\n"
     ]
    }
   ],
   "source": [
    "def show_names(*names):\n",
    "    for name in names:\n",
    "        print(name)\n",
    "\n",
    "show_names(\"Alice\", \"Bob\", \"Charlie\")"
   ]
  },
  {
   "cell_type": "code",
   "execution_count": 20,
   "id": "aaaa7038-7204-4a78-b5b8-c7bd38b4b722",
   "metadata": {},
   "outputs": [],
   "source": [
    "def show_info(**info):\n",
    "    for key, value in info.items():\n",
    "        print(f\"{key}: {value}\")"
   ]
  },
  {
   "cell_type": "code",
   "execution_count": 21,
   "id": "41e57e09-84fb-425b-8a66-76d75c4fe11d",
   "metadata": {},
   "outputs": [
    {
     "name": "stdout",
     "output_type": "stream",
     "text": [
      "name: Alice\n",
      "age: 30\n"
     ]
    }
   ],
   "source": [
    "show_info(name=\"Alice\", age=30)"
   ]
  },
  {
   "cell_type": "code",
   "execution_count": 22,
   "id": "c618df73-e3d6-4bf6-a59d-bd9033963517",
   "metadata": {},
   "outputs": [
    {
     "name": "stdout",
     "output_type": "stream",
     "text": [
      "Help on function greet in module __main__:\n",
      "\n",
      "greet(name)\n",
      "    This function greets the person passed as an argument.\n",
      "\n",
      "    Arguments:\n",
      "    name -- the name of the person to greet\n",
      "\n"
     ]
    }
   ],
   "source": [
    "def greet(name):\n",
    "    \"\"\"\n",
    "    This function greets the person passed as an argument.\n",
    "\n",
    "    Arguments:\n",
    "    name -- the name of the person to greet\n",
    "    \"\"\"\n",
    "    print(f\"Hello, {name}!\")\n",
    "\n",
    "help(greet)"
   ]
  },
  {
   "cell_type": "code",
   "execution_count": 23,
   "id": "d5c63263-646d-4f4f-b130-25408280c449",
   "metadata": {},
   "outputs": [
    {
     "name": "stdout",
     "output_type": "stream",
     "text": [
      "Hello, vachas!\n"
     ]
    }
   ],
   "source": [
    "greet(\"vachas\")"
   ]
  },
  {
   "cell_type": "code",
   "execution_count": 24,
   "id": "37a337f7-5cc1-4507-9f6f-a072b083f207",
   "metadata": {},
   "outputs": [
    {
     "name": "stdout",
     "output_type": "stream",
     "text": [
      "This is the inner function.\n",
      "This is the outer function.\n"
     ]
    }
   ],
   "source": [
    "def outer_function():\n",
    "    def inner_function():\n",
    "        print(\"This is the inner function.\")\n",
    "    \n",
    "    inner_function()\n",
    "    print(\"This is the outer function.\")\n",
    "\n",
    "outer_function()"
   ]
  },
  {
   "cell_type": "code",
   "execution_count": 28,
   "id": "5255a5eb-cdbd-4306-af12-94f0798ef54e",
   "metadata": {},
   "outputs": [
    {
     "name": "stdout",
     "output_type": "stream",
     "text": [
      "Global variable\n",
      "Inside function: 20\n",
      "Outside function: 20\n"
     ]
    }
   ],
   "source": [
    "x = 10  \n",
    "print(\"Global variable\")\n",
    "\n",
    "def my_function():\n",
    "    global x \n",
    "    x = 20\n",
    "    print(\"Inside function:\", x)\n",
    "\n",
    "my_function()\n",
    "print(\"Outside function:\", x)"
   ]
  },
  {
   "cell_type": "code",
   "execution_count": 32,
   "id": "dd6ad308-3e59-40b1-8f54-298f4cafd2ee",
   "metadata": {},
   "outputs": [
    {
     "name": "stdout",
     "output_type": "stream",
     "text": [
      "5040\n"
     ]
    }
   ],
   "source": [
    "def factorial(n):\n",
    "    if n == 0:\n",
    "        return 1\n",
    "    else:\n",
    "        return n * factorial(n - 1)\n",
    "\n",
    "print(factorial(7))"
   ]
  },
  {
   "cell_type": "code",
   "execution_count": 33,
   "id": "1dc9c20b-606b-4bf0-9720-0bbd1c136577",
   "metadata": {},
   "outputs": [
    {
     "name": "stdout",
     "output_type": "stream",
     "text": [
      "this is an example of lambda function\n",
      "5\n"
     ]
    }
   ],
   "source": [
    "print(\"this is an example of lambda function\")\n",
    "add = lambda x, y: x + y\n",
    "result = add(2, 3)\n",
    "print(result)"
   ]
  },
  {
   "cell_type": "code",
   "execution_count": 35,
   "id": "22d1bbed-33f8-42de-954a-df0a53152143",
   "metadata": {},
   "outputs": [
    {
     "name": "stdout",
     "output_type": "stream",
     "text": [
      "14.84\n"
     ]
    }
   ],
   "source": [
    "def apply(func, x, y):\n",
    "    return func(x, y)\n",
    "\n",
    "result = apply(lambda x, y: x + y, 9.5, 5.34)\n",
    "print(result)"
   ]
  },
  {
   "cell_type": "code",
   "execution_count": null,
   "id": "5ded09c2-1fd7-402c-832e-d0b12b07553a",
   "metadata": {},
   "outputs": [],
   "source": []
  }
 ],
 "metadata": {
  "kernelspec": {
   "display_name": "Python 3 (ipykernel)",
   "language": "python",
   "name": "python3"
  },
  "language_info": {
   "codemirror_mode": {
    "name": "ipython",
    "version": 3
   },
   "file_extension": ".py",
   "mimetype": "text/x-python",
   "name": "python",
   "nbconvert_exporter": "python",
   "pygments_lexer": "ipython3",
   "version": "3.12.7"
  }
 },
 "nbformat": 4,
 "nbformat_minor": 5
}
