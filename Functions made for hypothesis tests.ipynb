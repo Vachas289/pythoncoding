{
 "cells": [
  {
   "cell_type": "markdown",
   "id": "d2283f04-5f02-4190-9fe1-3699355d9323",
   "metadata": {},
   "source": [
    "FUNCTION FOR CHI-SQUARE TEST"
   ]
  },
  {
   "cell_type": "code",
   "execution_count": 35,
   "id": "f12239a3-f995-42b7-8c92-ca86965c637c",
   "metadata": {},
   "outputs": [],
   "source": [
    "import pandas as pd\n",
    "import scipy.stats as stats\n",
    "df= pd.read_csv(\"C:/Users/al6436/Desktop/Vrinda Store Data/VrindaStore.csv\")\n",
    "def chi_square_test(df, column1, column2, alpha=0.05):\n",
    "    contingency_table = pd.crosstab(df[column1], df[column2])\n",
    "    chi2_stat, p_value, dof, expected = stats.chi2_contingency(contingency_table)\n",
    "    \n",
    "    critical_value = stats.chi2.ppf(1 - alpha, dof)\n",
    "\n",
    "    print(f\"Chi-Square Statistic: {chi2_stat}\")\n",
    "    print(f\"p-value: {p_value}\")\n",
    "    print(f\"Degrees of Freedom: {dof}\")\n",
    "    print(f\"Critical Value: {critical_value}\")\n",
    "    \n",
    "    if chi2_stat > critical_value:\n",
    "        return f\"Reject the null hypothesis: The variables {column1} and {column2} are dependent (related).\"\n",
    "    else:\n",
    "        return f\"Fail to reject the null hypothesis: The variables {column1} and {column2} are independent.\"\n"
   ]
  },
  {
   "cell_type": "code",
   "execution_count": 36,
   "id": "7dd65b95-1c84-4d4c-add8-b8dca7488857",
   "metadata": {},
   "outputs": [
    {
     "name": "stdout",
     "output_type": "stream",
     "text": [
      "Chi-Square Statistic: 12417.426988774592\n",
      "p-value: 0.0\n",
      "Degrees of Freedom: 7\n",
      "Critical Value: 14.067140449340169\n",
      "Reject the null hypothesis: The variables Gender and Category are dependent (related).\n"
     ]
    }
   ],
   "source": [
    "result = chi_square_test(df, 'Gender', 'Category')\n",
    "print(result)"
   ]
  },
  {
   "cell_type": "code",
   "execution_count": 37,
   "id": "92390a54-ee3b-42fb-8ba1-b5e9d19dc524",
   "metadata": {},
   "outputs": [
    {
     "name": "stdout",
     "output_type": "stream",
     "text": [
      "Chi-Square Statistic: 31586.462861369724\n",
      "p-value: 0.0\n",
      "Degrees of Freedom: 70\n",
      "Critical Value: 90.53122543488065\n",
      "Reject the null hypothesis: The variables Size and Category are dependent (related).\n"
     ]
    }
   ],
   "source": [
    "result = chi_square_test(df,'Size','Category')\n",
    "print(result)"
   ]
  },
  {
   "cell_type": "markdown",
   "id": "edf773e2-cbc0-4f95-bfaf-4ad3a404bb63",
   "metadata": {},
   "source": [
    "\n",
    "FUNCTION FOR Z-TEST\n"
   ]
  },
  {
   "cell_type": "code",
   "execution_count": 38,
   "id": "7cc4594c-cdd4-4faa-84ed-ec34f6e3c577",
   "metadata": {},
   "outputs": [],
   "source": [
    "import numpy as np\n",
    "def z_test_two_sample(sample1, sample2, std1, std2, alpha=0.05):\n",
    "    mean1 = np.mean(sample1)\n",
    "    mean2 = np.mean(sample2)\n",
    "    n1 = len(sample1)\n",
    "    n2 = len(sample2)\n",
    "    \n",
    "    z_score = (mean1 - mean2) / np.sqrt((std1 ** 2 / n1) + (std2 ** 2 / n2))\n",
    "    \n",
    "    p_value = 2 * (1 - stats.norm.cdf(abs(z_score)))\n",
    "    critical_value = stats.norm.ppf(1 - alpha / 2)\n",
    "    \n",
    "    print(f\"Z-score: {z_score:.2f}\")\n",
    "    print(f\"p-value: {p_value:.2f}\")\n",
    "    print(f\"Critical Value: {critical_value:.2f}\")\n",
    "    \n",
    "    if abs(z_score) > critical_value:\n",
    "        return f\"Reject the null hypothesis: The means of the two samples are significantly different.\"\n",
    "    else:\n",
    "        return f\"Fail to reject the null hypothesis: The means of the two samples are not significantly different.\"\n"
   ]
  },
  {
   "cell_type": "code",
   "execution_count": 39,
   "id": "24adc7a1-b788-4c64-bc55-3c84063bc575",
   "metadata": {},
   "outputs": [
    {
     "name": "stdout",
     "output_type": "stream",
     "text": [
      "Z-score: 57.65\n",
      "p-value: 0.00\n",
      "Critical Value: 1.96\n",
      "Reject the null hypothesis: The means of the two samples are significantly different.\n"
     ]
    }
   ],
   "source": [
    "men_data = df[df['Gender'] == 'Men']['Amount']\n",
    "women_data = df[df['Gender'] == 'Women']['Amount']\n",
    "std_men = 232.0668908\n",
    "std_women = 266.5992774\n",
    "result = z_test_two_sample(men_data, women_data, std_men, std_women)\n",
    "print(result)"
   ]
  },
  {
   "cell_type": "code",
   "execution_count": 69,
   "id": "261a9d85-0296-45fb-b7c3-fb2efbd0564d",
   "metadata": {},
   "outputs": [
    {
     "name": "stdout",
     "output_type": "stream",
     "text": [
      "Z-score: -0.15\n",
      "p-value: 0.88\n",
      "Critical Value: 1.96\n",
      "Fail to reject the null hypothesis: The means of the two samples are not significantly different.\n"
     ]
    }
   ],
   "source": [
    "B2B = df[df['B2B'] == True]['Amount']\n",
    "B2C = df[df['B2B'] == False]['Amount']\n",
    "std_B2B = 271.23\n",
    "std_B2C = 268.57\n",
    "result = z_test_two_sample(B2B, B2C, std_B2C, std_B2B)\n",
    "print(result)"
   ]
  },
  {
   "cell_type": "markdown",
   "id": "7c629325-417d-4408-b85e-b01e1053d794",
   "metadata": {},
   "source": [
    "\n",
    "FUNCTION FOR ONE WAY ANOVA\n"
   ]
  },
  {
   "cell_type": "code",
   "execution_count": 51,
   "id": "66aa1d6e-b38e-4350-bcb3-a72ea6444c46",
   "metadata": {},
   "outputs": [],
   "source": [
    "import pandas as pd\n",
    "import scipy.stats as stats\n",
    "\n",
    "def one_way_anova(df, group_column, value_column, alpha=0.05):\n",
    "    \n",
    "        groups = [df[df[group_column] == group][value_column].values for group in df[group_column].unique()]\n",
    "        f_statistic, p_value = stats.f_oneway(*groups)\n",
    "        print(f\"F-statistic: {f_statistic:.2f}\")\n",
    "        print(f\"p-value: {p_value:.2f}\")\n",
    "        k = len(df[group_column].unique()) \n",
    "        N = len(df) \n",
    "        df_between = k - 1 \n",
    "        df_within = N - k   \n",
    "        f_critical = stats.f.ppf(1 - alpha, df_between, df_within)\n",
    "        print(f\"Critical F-value: {f_critical:.2f}\")\n",
    "\n",
    "        if p_value < alpha:\n",
    "            return f\"Reject the null hypothesis: The average {value_column} differs across the {group_column} groups.\"\n",
    "        else:\n",
    "            return f\"Fail to reject the null hypothesis: The average {value_column} does not differ significantly across the {group_column} groups.\""
   ]
  },
  {
   "cell_type": "code",
   "execution_count": 52,
   "id": "6e57152f-7f88-4cc5-8f06-e14ec9037945",
   "metadata": {},
   "outputs": [
    {
     "name": "stdout",
     "output_type": "stream",
     "text": [
      "F-statistic: 123.67\n",
      "p-value: 0.00\n",
      "Critical F-value: 2.61\n",
      "Reject the null hypothesis: The average Amount differs across the Status groups.\n"
     ]
    }
   ],
   "source": [
    "result = one_way_anova(df, 'Status', 'Amount')\n",
    "print(result)"
   ]
  },
  {
   "cell_type": "code",
   "execution_count": 53,
   "id": "ecc5dfda-cb2d-46f9-adfb-5867dd0a26a8",
   "metadata": {},
   "outputs": [
    {
     "name": "stdout",
     "output_type": "stream",
     "text": [
      "F-statistic: 0.24\n",
      "p-value: 0.78\n",
      "Critical F-value: 3.00\n",
      "Fail to reject the null hypothesis: The average Amount does not differ significantly across the Group groups.\n"
     ]
    }
   ],
   "source": [
    "result = one_way_anova(df, 'Group', 'Amount')\n",
    "print(result)"
   ]
  },
  {
   "cell_type": "markdown",
   "id": "55ab2cb6-aa1b-42e3-ae4e-dd6d5707fa69",
   "metadata": {},
   "source": [
    "\n",
    "FUNCTION FOR T TEST \n"
   ]
  },
  {
   "cell_type": "code",
   "execution_count": 71,
   "id": "a6c56f8e-5987-4e88-b9f4-d121320e5577",
   "metadata": {},
   "outputs": [
    {
     "name": "stdout",
     "output_type": "stream",
     "text": [
      "T-score: 57.65\n",
      "p-value: 0.00\n",
      "Critical Value: 1.96\n",
      "Reject the null hypothesis: The means of the two samples are significantly different.\n"
     ]
    }
   ],
   "source": [
    "import numpy as np\n",
    "from scipy import stats\n",
    "\n",
    "def t_test_two_sample(sample1, sample2, alpha=0.05):\n",
    "    mean1 = np.mean(sample1)\n",
    "    mean2 = np.mean(sample2)\n",
    "    n1 = len(sample1)\n",
    "    n2 = len(sample2)\n",
    "    var1 = np.var(sample1, ddof=1)\n",
    "    var2 = np.var(sample2, ddof=1)\n",
    "    \n",
    "    t_score = (mean1 - mean2) / np.sqrt((var1 / n1) + (var2 / n2))\n",
    "    df = ((var1 / n1) + (var2 / n2))**2 / (((var1 / n1)**2 / (n1 - 1)) + ((var2 / n2)**2 / (n2 - 1)))\n",
    "    \n",
    "    p_value = 2 * (1 - stats.t.cdf(abs(t_score), df))\n",
    "    critical_value = stats.t.ppf(1 - alpha / 2, df)\n",
    "    \n",
    "    print(f\"T-score: {t_score:.2f}\")\n",
    "    print(f\"p-value: {p_value:.2f}\")\n",
    "    print(f\"Critical Value: {critical_value:.2f}\")\n",
    "    \n",
    "    if abs(t_score) > critical_value:\n",
    "        return f\"Reject the null hypothesis: The means of the two samples are significantly different.\"\n",
    "    else:\n",
    "        return f\"Fail to reject the null hypothesis: The means of the two samples are not significantly different.\"\n",
    "\n",
    "men_data = df[df['Gender'] == 'Men']['Amount']\n",
    "women_data = df[df['Gender'] == 'Women']['Amount']\n",
    "result = t_test_two_sample(men_data, women_data)\n",
    "print(result)\n"
   ]
  },
  {
   "cell_type": "code",
   "execution_count": 76,
   "id": "f60de36c-1494-49ad-bbcc-af1e06a1ac9c",
   "metadata": {},
   "outputs": [
    {
     "data": {
      "text/plain": [
       "TtestResult(statistic=54.641624219644086, pvalue=0.0, df=31045.0)"
      ]
     },
     "execution_count": 76,
     "metadata": {},
     "output_type": "execute_result"
    }
   ],
   "source": [
    "stats.ttest_ind(men_data, women_data) "
   ]
  }
 ],
 "metadata": {
  "kernelspec": {
   "display_name": "Python 3 (ipykernel)",
   "language": "python",
   "name": "python3"
  },
  "language_info": {
   "codemirror_mode": {
    "name": "ipython",
    "version": 3
   },
   "file_extension": ".py",
   "mimetype": "text/x-python",
   "name": "python",
   "nbconvert_exporter": "python",
   "pygments_lexer": "ipython3",
   "version": "3.12.7"
  }
 },
 "nbformat": 4,
 "nbformat_minor": 5
}
