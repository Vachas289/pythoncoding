{
 "cells": [
  {
   "cell_type": "code",
   "execution_count": 2,
   "id": "22bae0d0-ab4b-426f-8feb-8bba8e250795",
   "metadata": {},
   "outputs": [
    {
     "name": "stdout",
     "output_type": "stream",
     "text": [
      "Requirement already satisfied: pandas in c:\\users\\al6436\\appdata\\local\\anaconda3\\lib\\site-packages (2.2.2)\n",
      "Requirement already satisfied: numpy>=1.26.0 in c:\\users\\al6436\\appdata\\local\\anaconda3\\lib\\site-packages (from pandas) (1.26.4)\n",
      "Requirement already satisfied: python-dateutil>=2.8.2 in c:\\users\\al6436\\appdata\\local\\anaconda3\\lib\\site-packages (from pandas) (2.9.0.post0)\n",
      "Requirement already satisfied: pytz>=2020.1 in c:\\users\\al6436\\appdata\\local\\anaconda3\\lib\\site-packages (from pandas) (2024.1)\n",
      "Requirement already satisfied: tzdata>=2022.7 in c:\\users\\al6436\\appdata\\local\\anaconda3\\lib\\site-packages (from pandas) (2023.3)\n",
      "Requirement already satisfied: six>=1.5 in c:\\users\\al6436\\appdata\\local\\anaconda3\\lib\\site-packages (from python-dateutil>=2.8.2->pandas) (1.16.0)\n",
      "Note: you may need to restart the kernel to use updated packages.\n"
     ]
    }
   ],
   "source": [
    "pip install pandas\n"
   ]
  },
  {
   "cell_type": "code",
   "execution_count": 3,
   "id": "ad2bf215-f799-49cb-b8a9-70b55041b6d9",
   "metadata": {},
   "outputs": [],
   "source": [
    "import pandas as pd"
   ]
  },
  {
   "cell_type": "code",
   "execution_count": 5,
   "id": "ad58bf79-97ba-458f-bb3c-489b4d37209c",
   "metadata": {},
   "outputs": [
    {
     "name": "stdout",
     "output_type": "stream",
     "text": [
      "0    10\n",
      "1    11\n",
      "2    12\n",
      "3    23\n",
      "4    43\n",
      "5    56\n",
      "6    87\n",
      "dtype: int64\n"
     ]
    }
   ],
   "source": [
    "data=[10,11,12,23,43,56,87]\n",
    "s=pd.Series(data)\n",
    "print(s)"
   ]
  },
  {
   "cell_type": "code",
   "execution_count": 8,
   "id": "afad636f-f085-4ee5-b4bd-3d3fedda848c",
   "metadata": {},
   "outputs": [
    {
     "name": "stdout",
     "output_type": "stream",
     "text": [
      "a    10\n",
      "b    11\n",
      "c    12\n",
      "d    23\n",
      "e    43\n",
      "f    56\n",
      "g    87\n",
      "dtype: int64\n"
     ]
    }
   ],
   "source": [
    "s=pd.Series(data,index=(\"a\",\"b\",\"c\",\"d\",\"e\",\"f\",\"g\"))\n",
    "print(s)"
   ]
  },
  {
   "cell_type": "code",
   "execution_count": 11,
   "id": "979f6bae-38fd-483b-8889-0851f75c9177",
   "metadata": {},
   "outputs": [
    {
     "name": "stdout",
     "output_type": "stream",
     "text": [
      "  Name  ID Month\n",
      "0   Vk   1   jan\n",
      "1   Ak   2   feb\n",
      "2   Kr   3   Mar\n",
      "3   Rk   4   apr\n"
     ]
    }
   ],
   "source": [
    "data= {\"Name\":[\"Vk\",\"Ak\",\"Kr\",\"Rk\"],\n",
    "        \"ID\":[1,2,3,4],\n",
    "        \"Month\":[\"jan\",\"feb\",\"Mar\",\"apr\"]}\n",
    "df= pd.DataFrame(data)\n",
    "print(df)"
   ]
  },
  {
   "cell_type": "code",
   "execution_count": 12,
   "id": "dcf51321-6a20-4156-9350-2e2ba4821afd",
   "metadata": {},
   "outputs": [
    {
     "name": "stdout",
     "output_type": "stream",
     "text": [
      "0    Vk\n",
      "1    Ak\n",
      "2    Kr\n",
      "3    Rk\n",
      "Name: Name, dtype: object\n"
     ]
    }
   ],
   "source": [
    "print(df['Name'])"
   ]
  },
  {
   "cell_type": "code",
   "execution_count": 17,
   "id": "ee591b40-21e1-4cf9-aafd-77cdde81169d",
   "metadata": {},
   "outputs": [
    {
     "name": "stdout",
     "output_type": "stream",
     "text": [
      "  Name  ID\n",
      "0   Vk   1\n",
      "1   Ak   2\n",
      "2   Kr   3\n",
      "3   Rk   4\n"
     ]
    }
   ],
   "source": [
    "print(df[['Name', 'ID']])"
   ]
  },
  {
   "cell_type": "code",
   "execution_count": 20,
   "id": "54d7f8ec-178b-475d-a894-b63582a1810f",
   "metadata": {},
   "outputs": [
    {
     "name": "stdout",
     "output_type": "stream",
     "text": [
      "Name      Ak\n",
      "ID         2\n",
      "Month    feb\n",
      "Name: 1, dtype: object\n",
      "Name      Ak\n",
      "ID         2\n",
      "Month    feb\n",
      "Name: 1, dtype: object\n",
      "  Name  ID Month\n",
      "1   Ak   2   feb\n",
      "2   Kr   3   Mar\n"
     ]
    }
   ],
   "source": [
    "# Using `iloc` for integer-based indexing (by position)\n",
    "print(df.iloc[1])  # Select second row\n",
    "\n",
    "# Using `loc` for label-based indexing\n",
    "print(df.loc[1])  # Select row with index 1\n",
    "\n",
    "# Selecting rows by range (slicing)\n",
    "print(df[1:3])  # Select rows from index 1 to 2 (not 3)\n"
   ]
  },
  {
   "cell_type": "code",
   "execution_count": 21,
   "id": "14ad07cc-a6e4-4ae6-a89e-fa87ce88a551",
   "metadata": {},
   "outputs": [
    {
     "name": "stdout",
     "output_type": "stream",
     "text": [
      "  Name  ID Month\n",
      "3   Rk   4   apr\n"
     ]
    }
   ],
   "source": [
    "print(df[df['ID'] > 3])"
   ]
  },
  {
   "cell_type": "code",
   "execution_count": 22,
   "id": "44177a32-23be-4503-9d3f-cc3417ad727f",
   "metadata": {},
   "outputs": [],
   "source": [
    "data = {'Name': ['Alice', 'Bob', 'Charlie'],\n",
    "        'Age': [25, None, 35],\n",
    "        'City': ['New York', 'Los Angeles', None]}\n",
    "df=pd.DataFrame(data)"
   ]
  },
  {
   "cell_type": "code",
   "execution_count": 23,
   "id": "154be86c-cece-445e-b28e-ed7ad155d3ab",
   "metadata": {},
   "outputs": [
    {
     "name": "stdout",
     "output_type": "stream",
     "text": [
      "    Name    Age   City\n",
      "0  False  False  False\n",
      "1  False   True  False\n",
      "2  False  False   True\n"
     ]
    }
   ],
   "source": [
    "print(df.isnull())"
   ]
  },
  {
   "cell_type": "code",
   "execution_count": 30,
   "id": "595d48f7-a9f9-4feb-878a-4ae0316b2fb2",
   "metadata": {},
   "outputs": [],
   "source": [
    "df['Age'] = df['Age'].fillna(df['Age'].mean())"
   ]
  },
  {
   "cell_type": "code",
   "execution_count": 31,
   "id": "32c58f0b-9937-4fed-8952-627bd1ad447a",
   "metadata": {},
   "outputs": [
    {
     "name": "stdout",
     "output_type": "stream",
     "text": [
      "      Name   Age         City\n",
      "0    Alice  25.0     New York\n",
      "1      Bob  30.0  Los Angeles\n",
      "2  Charlie  35.0         None\n"
     ]
    }
   ],
   "source": [
    "print(df)"
   ]
  },
  {
   "cell_type": "code",
   "execution_count": 32,
   "id": "53cd7fce-ab71-48c8-b92b-4958f5889207",
   "metadata": {},
   "outputs": [],
   "source": [
    "df = df.dropna()"
   ]
  },
  {
   "cell_type": "code",
   "execution_count": 33,
   "id": "df7f0d15-971c-44be-8fef-181babd82dc8",
   "metadata": {},
   "outputs": [
    {
     "name": "stdout",
     "output_type": "stream",
     "text": [
      "    Name   Age         City\n",
      "0  Alice  25.0     New York\n",
      "1    Bob  30.0  Los Angeles\n"
     ]
    }
   ],
   "source": [
    "print(df)\n"
   ]
  },
  {
   "cell_type": "code",
   "execution_count": 39,
   "id": "017bef3d-6bd0-4e60-93ce-74a5ea4dd40b",
   "metadata": {},
   "outputs": [
    {
     "name": "stdout",
     "output_type": "stream",
     "text": [
      "  name  amount\n",
      "0   vk     222\n",
      "1   kk     345\n",
      "2   ak     675\n"
     ]
    }
   ],
   "source": [
    "data={'name':['vk','kk','ak','vk'],\n",
    "      'amount':[222,345,675,222]}\n",
    "df=pd.DataFrame(data)\n",
    "df=df.drop_duplicates()\n",
    "print(df)"
   ]
  },
  {
   "cell_type": "code",
   "execution_count": 40,
   "id": "f6e22dd4-c951-4164-84bd-f29754b79e9c",
   "metadata": {},
   "outputs": [
    {
     "name": "stdout",
     "output_type": "stream",
     "text": [
      "          Value\n",
      "Category       \n",
      "A            90\n",
      "B           120\n"
     ]
    }
   ],
   "source": [
    "data={'Category':['A', 'B', 'A', 'B', 'A', 'B'],\n",
    "      'Value':[10,20,30,40,50,60]}\n",
    "df=pd.DataFrame(data)\n",
    "grouped = df.groupby('Category').sum()\n",
    "print(grouped)"
   ]
  },
  {
   "cell_type": "code",
   "execution_count": 41,
   "id": "ab3ef619-c5ff-44b5-ba2a-7cad27fd997d",
   "metadata": {},
   "outputs": [
    {
     "name": "stdout",
     "output_type": "stream",
     "text": [
      "  Key  Value1  Value2\n",
      "0   A       1       4\n",
      "1   B       2       5\n"
     ]
    }
   ],
   "source": [
    "df1 = pd.DataFrame({'Key': ['A', 'B', 'C'], 'Value1': [1, 2, 3]})\n",
    "df2 = pd.DataFrame({'Key': ['A', 'B', 'D'], 'Value2': [4, 5, 6]})\n",
    "\n",
    "# Merge DataFrames on the 'Key' column\n",
    "merged_df = pd.merge(df1, df2, on='Key', how='inner')\n",
    "print(merged_df)\n"
   ]
  },
  {
   "cell_type": "code",
   "execution_count": 42,
   "id": "c3d91580-585d-47d5-8c01-c1891e4db71c",
   "metadata": {},
   "outputs": [
    {
     "name": "stdout",
     "output_type": "stream",
     "text": [
      "         Date         City  Temperature\n",
      "0  2021-01-01     New York           32\n",
      "1  2021-01-02  Los Angeles           75\n",
      "2  2021-01-01      Chicago           28\n",
      "City        Chicago  Los Angeles  New York\n",
      "Date                                      \n",
      "2021-01-01     28.0          NaN      32.0\n",
      "2021-01-02      NaN         75.0       NaN\n"
     ]
    }
   ],
   "source": [
    "data = {'Date': ['2021-01-01', '2021-01-02', '2021-01-01'],\n",
    "        'City': ['New York', 'Los Angeles', 'Chicago'],\n",
    "        'Temperature': [32, 75, 28]}\n",
    "\n",
    "df = pd.DataFrame(data)\n",
    "print(df)\n",
    "# Pivot the data\n",
    "pivot_df = df.pivot(index='Date', columns='City', values='Temperature')\n",
    "print(pivot_df)\n"
   ]
  },
  {
   "cell_type": "code",
   "execution_count": 48,
   "id": "304af608-6438-4a55-a9e6-197e77865d0c",
   "metadata": {},
   "outputs": [
    {
     "data": {
      "image/png": "[encoded data removed]",
      "text/plain": [
       "<Figure size 640x480 with 1 Axes>"
      ]
     },
     "metadata": {},
     "output_type": "display_data"
    }
   ],
   "source": [
    "import matplotlib.pyplot as plt\n",
    "\n",
    "# Plotting a simple line plot\n",
    "df['Age'] = [25, 30, 35]\n",
    "df['Name'] = ['Alice', 'Bob', 'Charlie']\n",
    "\n",
    "df.plot(x='Name', y='Age', kind='line')\n",
    "plt.show()\n"
   ]
  },
  {
   "cell_type": "code",
   "execution_count": 49,
   "id": "d3345317-5b1c-44ba-8e9d-6c1aed5e9250",
   "metadata": {},
   "outputs": [],
   "source": [
    "# Saving to CSV\n",
    "df.to_csv('data.csv', index=False)\n",
    "\n",
    "# Saving to Excel\n",
    "df.to_excel('data.xlsx', index=False)\n"
   ]
  },
  {
   "cell_type": "code",
   "execution_count": null,
   "id": "277f56a6-ca6a-459c-983f-ebf3a738e87c",
   "metadata": {},
   "outputs": [],
   "source": []
  }
 ],
 "metadata": {
  "kernelspec": {
   "display_name": "Python 3 (ipykernel)",
   "language": "python",
   "name": "python3"
  },
  "language_info": {
   "codemirror_mode": {
    "name": "ipython",
    "version": 3
   },
   "file_extension": ".py",
   "mimetype": "text/x-python",
   "name": "python",
   "nbconvert_exporter": "python",
   "pygments_lexer": "ipython3",
   "version": "3.12.7"
  }
 },
 "nbformat": 4,
 "nbformat_minor": 5
}
