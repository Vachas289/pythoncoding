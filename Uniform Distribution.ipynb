{
 "cells": [
  {
   "cell_type": "code",
   "execution_count": 4,
   "id": "54da3625-c3e6-4171-a1ec-9cd2181bdc14",
   "metadata": {
    "scrolled": true
   },
   "outputs": [
    {
     "name": "stdout",
     "output_type": "stream",
     "text": [
      "Collecting metaplotNote: you may need to restart the kernel to use updated packages.\n",
      "\n",
      "  Downloading metaplot-1.1.0.tar.gz (8.1 kB)\n",
      "  Preparing metadata (setup.py): started\n",
      "  Preparing metadata (setup.py): finished with status 'done'\n",
      "Requirement already satisfied: numpy in c:\\users\\al6436\\appdata\\local\\anaconda3\\lib\\site-packages (from metaplot) (1.26.4)\n",
      "Requirement already satisfied: matplotlib in c:\\users\\al6436\\appdata\\local\\anaconda3\\lib\\site-packages (from metaplot) (3.9.2)\n",
      "Collecting pint (from metaplot)\n",
      "  Downloading Pint-0.24.4-py3-none-any.whl.metadata (8.5 kB)\n",
      "Requirement already satisfied: contourpy>=1.0.1 in c:\\users\\al6436\\appdata\\local\\anaconda3\\lib\\site-packages (from matplotlib->metaplot) (1.2.0)\n",
      "Requirement already satisfied: cycler>=0.10 in c:\\users\\al6436\\appdata\\local\\anaconda3\\lib\\site-packages (from matplotlib->metaplot) (0.11.0)\n",
      "Requirement already satisfied: fonttools>=4.22.0 in c:\\users\\al6436\\appdata\\local\\anaconda3\\lib\\site-packages (from matplotlib->metaplot) (4.51.0)\n",
      "Requirement already satisfied: kiwisolver>=1.3.1 in c:\\users\\al6436\\appdata\\local\\anaconda3\\lib\\site-packages (from matplotlib->metaplot) (1.4.4)\n",
      "Requirement already satisfied: packaging>=20.0 in c:\\users\\al6436\\appdata\\local\\anaconda3\\lib\\site-packages (from matplotlib->metaplot) (24.1)\n",
      "Requirement already satisfied: pillow>=8 in c:\\users\\al6436\\appdata\\local\\anaconda3\\lib\\site-packages (from matplotlib->metaplot) (10.4.0)\n",
      "Requirement already satisfied: pyparsing>=2.3.1 in c:\\users\\al6436\\appdata\\local\\anaconda3\\lib\\site-packages (from matplotlib->metaplot) (3.1.2)\n",
      "Requirement already satisfied: python-dateutil>=2.7 in c:\\users\\al6436\\appdata\\local\\anaconda3\\lib\\site-packages (from matplotlib->metaplot) (2.9.0.post0)\n",
      "Requirement already satisfied: platformdirs>=2.1.0 in c:\\users\\al6436\\appdata\\local\\anaconda3\\lib\\site-packages (from pint->metaplot) (3.10.0)\n",
      "Requirement already satisfied: typing-extensions>=4.0.0 in c:\\users\\al6436\\appdata\\local\\anaconda3\\lib\\site-packages (from pint->metaplot) (4.11.0)\n",
      "Collecting flexcache>=0.3 (from pint->metaplot)\n",
      "  Downloading flexcache-0.3-py3-none-any.whl.metadata (7.0 kB)\n",
      "Collecting flexparser>=0.4 (from pint->metaplot)\n",
      "  Downloading flexparser-0.4-py3-none-any.whl.metadata (18 kB)\n",
      "Requirement already satisfied: six>=1.5 in c:\\users\\al6436\\appdata\\local\\anaconda3\\lib\\site-packages (from python-dateutil>=2.7->matplotlib->metaplot) (1.16.0)\n",
      "Downloading Pint-0.24.4-py3-none-any.whl (302 kB)\n",
      "Downloading flexcache-0.3-py3-none-any.whl (13 kB)\n",
      "Downloading flexparser-0.4-py3-none-any.whl (27 kB)\n",
      "Building wheels for collected packages: metaplot\n",
      "  Building wheel for metaplot (setup.py): started\n",
      "  Building wheel for metaplot (setup.py): finished with status 'done'\n",
      "  Created wheel for metaplot: filename=metaplot-1.1.0-py3-none-any.whl size=7927 sha256=4450b48a478f0ad2cca31434090b5b451cd225fa01ba5c5f14a2a7be795085b1\n",
      "  Stored in directory: c:\\users\\al6436\\appdata\\local\\pip\\cache\\wheels\\9a\\22\\90\\68227bac6389c523e5975dcafe75ee45e3a2bbbec31cbd4ff9\n",
      "Successfully built metaplot\n",
      "Installing collected packages: flexparser, flexcache, pint, metaplot\n",
      "Successfully installed flexcache-0.3 flexparser-0.4 metaplot-1.1.0 pint-0.24.4\n"
     ]
    }
   ],
   "source": [
    "pip install metaplot"
   ]
  },
  {
   "cell_type": "code",
   "execution_count": null,
   "id": "f70b2c33-fa23-4803-b10d-9dc9e1d63c58",
   "metadata": {},
   "outputs": [],
   "source": [
    "\"\"\"The current (in mA) measured in a piece of copper wire is known to follow a uniform distribution over the interval [0, 25].\n",
    "Find the formula for the probability density function \n",
    "f(x)\n",
    "f(x) of the random variable X\n",
    "X representing the current. Calculate the mean, variance, and standard deviation of the distribution and find the cumulative distribution function \n",
    "F(x)\n",
    "\"\"\" "
   ]
  },
  {
   "cell_type": "code",
   "execution_count": 14,
   "id": "a4728bf5-8a69-45d6-9000-74a73fb35dfc",
   "metadata": {},
   "outputs": [
    {
     "name": "stdout",
     "output_type": "stream",
     "text": [
      "25.0\n",
      "52.083333333333336\n",
      "7.216878364870322\n",
      "0.04\n",
      "10.0\n"
     ]
    }
   ],
   "source": [
    "import numpy as np\n",
    "a=0\n",
    "b=25\n",
    "\n",
    "def pdf(x):\n",
    "    if 0<=x<=25:\n",
    "        return 1/b-a\n",
    "    else:\n",
    "        return 0 \n",
    "\n",
    "def cdf(x):\n",
    "    if 0<=x<=25:\n",
    "        return x-a/b-a\n",
    "    elif x<0:\n",
    "        return 0\n",
    "    else:\n",
    "        return 1\n",
    "\n",
    "mean = b+a/2\n",
    "variance= (b-a)**2/12\n",
    "standard_deviation= np.sqrt(variance)\n",
    "\n",
    "print(mean)\n",
    "print(variance)\n",
    "print(standard_deviation)\n",
    "print(pdf(10))\n",
    "print(cdf(10))"
   ]
  },
  {
   "cell_type": "code",
   "execution_count": 15,
   "id": "207f1d92-d0a8-4240-83ff-978222f735d9",
   "metadata": {},
   "outputs": [
    {
     "name": "stdout",
     "output_type": "stream",
     "text": [
      "0.04\n",
      "0.4\n",
      "mean = 12.5\n",
      "variance= 52.08333333333333\n",
      "std 7.216878364870322\n"
     ]
    }
   ],
   "source": [
    "import numpy as np\n",
    "from scipy.stats import uniform\n",
    "a=0\n",
    "b=25\n",
    "\n",
    "x=10\n",
    "pdf= uniform.pdf(x,loc=a,scale=b-a)\n",
    "print(pdf)\n",
    "\n",
    "cdf= uniform.cdf(x,loc=a,scale=b-a)\n",
    "print(cdf)\n",
    "\n",
    "mean= uniform.mean(loc=a,scale=b-a)\n",
    "print(\"mean =\", mean)\n",
    "variance= uniform.var(loc=a,scale=b-a)\n",
    "print(\"variance=\", variance)\n",
    "std= uniform.std(loc=a,scale=b-a)\n",
    "print(\"std=\",std)\n"
   ]
  },
  {
   "cell_type": "code",
   "execution_count": null,
   "id": "57aa39bf-26a6-4b9f-a2e6-9d1fce8650fc",
   "metadata": {},
   "outputs": [],
   "source": []
  }
 ],
 "metadata": {
  "kernelspec": {
   "display_name": "Python 3 (ipykernel)",
   "language": "python",
   "name": "python3"
  },
  "language_info": {
   "codemirror_mode": {
    "name": "ipython",
    "version": 3
   },
   "file_extension": ".py",
   "mimetype": "text/x-python",
   "name": "python",
   "nbconvert_exporter": "python",
   "pygments_lexer": "ipython3",
   "version": "3.12.7"
  }
 },
 "nbformat": 4,
 "nbformat_minor": 5
}
