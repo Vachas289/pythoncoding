{
 "cells": [
  {
   "cell_type": "code",
   "execution_count": null,
   "id": "dbb6fc51-49ac-4def-9991-95a6c36d88c1",
   "metadata": {},
   "outputs": [],
   "source": [
    "\"\"\"Suppose the probability of getting a heads in a coin toss is p=0.5,\n",
    "and we want to calculate the probability that the first heads (success) will occur on the 3rd trial.\"\"\""
   ]
  },
  {
   "cell_type": "code",
   "execution_count": 3,
   "id": "2b8971c1-1d7e-4d76-92ae-e39610966636",
   "metadata": {},
   "outputs": [
    {
     "name": "stdout",
     "output_type": "stream",
     "text": [
      "PMF for X = 3 (first success on 3rd trial): 0.1250\n",
      "CDF for X <= 3 (first success on or before 3rd trial): 0.8750\n",
      "Mean: 2.00\n",
      "Variance: 2.00\n"
     ]
    }
   ],
   "source": [
    "from scipy.stats import geom\n",
    "\n",
    "p = 0.5\n",
    "\n",
    "pmf_3 = geom.pmf(3, p)\n",
    "print(f\"PMF for X = 3 (first success on 3rd trial): {pmf_3:.4f}\")\n",
    "\n",
    "cdf_3 = geom.cdf(3, p)\n",
    "print(f\"CDF for X <= 3 (first success on or before 3rd trial): {cdf_3:.4f}\")\n",
    "\n",
    "mean = geom.mean(p)\n",
    "print(f\"Mean: {mean:.2f}\")\n",
    "\n",
    "variance = geom.var(p)\n",
    "print(f\"Variance: {variance:.2f}\")\n"
   ]
  },
  {
   "cell_type": "code",
   "execution_count": null,
   "id": "a5f45860-1be5-45cc-bff1-2440fcbe56d3",
   "metadata": {},
   "outputs": [],
   "source": []
  }
 ],
 "metadata": {
  "kernelspec": {
   "display_name": "Python 3 (ipykernel)",
   "language": "python",
   "name": "python3"
  },
  "language_info": {
   "codemirror_mode": {
    "name": "ipython",
    "version": 3
   },
   "file_extension": ".py",
   "mimetype": "text/x-python",
   "name": "python",
   "nbconvert_exporter": "python",
   "pygments_lexer": "ipython3",
   "version": "3.12.7"
  }
 },
 "nbformat": 4,
 "nbformat_minor": 5
}
