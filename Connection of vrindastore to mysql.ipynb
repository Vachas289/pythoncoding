{
 "cells": [
  {
   "cell_type": "code",
   "execution_count": 7,
   "id": "dbfb5600-322c-462a-bc34-c020ce04d8dd",
   "metadata": {},
   "outputs": [
    {
     "name": "stdout",
     "output_type": "stream",
     "text": [
      "Collecting pymysql\n",
      "  Downloading PyMySQL-1.1.1-py3-none-any.whl.metadata (4.4 kB)\n",
      "Downloading PyMySQL-1.1.1-py3-none-any.whl (44 kB)\n",
      "Installing collected packages: pymysql\n",
      "Successfully installed pymysql-1.1.1\n",
      "Note: you may need to restart the kernel to use updated packages.\n"
     ]
    }
   ],
   "source": [
    "pip install pymysql"
   ]
  },
  {
   "cell_type": "code",
   "execution_count": 7,
   "id": "17f3bbb8-cc1b-46f6-99ff-293bd6ba5883",
   "metadata": {},
   "outputs": [
    {
     "name": "stdout",
     "output_type": "stream",
     "text": [
      "Data from C:\\Users\\al6436\\Desktop\\Vrinda Store Data Analysis.xlsx has been successfully uploaded to MySQL.\n"
     ]
    }
   ],
   "source": [
    "import mysql.connector\n",
    "import pandas as pd\n",
    "\n",
    "host = \"localhost\"\n",
    "user = \"root\"\n",
    "password = \"vachas289\"\n",
    "database_name = \"VrindaStoreData\"\n",
    "file_path = r\"C:\\Users\\al6436\\Desktop\\Vrinda Store Data Analysis.xlsx\"\n",
    "\n",
    "def create_mysql_connection():\n",
    "    return mysql.connector.connect(\n",
    "        host=host,\n",
    "        user=user,\n",
    "        password=password\n",
    "    )\n",
    "\n",
    "def create_schema(cursor):\n",
    "    cursor.execute(f\"CREATE DATABASE IF NOT EXISTS {database_name}\")\n",
    "    cursor.execute(f\"USE {database_name}\")\n",
    "\n",
    "def clean_column_names(columns):\n",
    "    cleaned_columns = []\n",
    "    for col in columns:\n",
    "        cleaned_col = col.strip().replace(\" \", \"_\").replace(\"-\", \"_\")\n",
    "        cleaned_columns.append(cleaned_col)\n",
    "    return cleaned_columns\n",
    "\n",
    "def read_excel(file_path):\n",
    "    df = pd.read_excel(file_path, engine='openpyxl')\n",
    "    \n",
    "    df.columns = clean_column_names(df.columns)\n",
    "    \n",
    "    return df\n",
    "\n",
    "def create_table_from_df(cursor, df):\n",
    "    table_name = \"VrindaStoreDataTable\"\n",
    "    \n",
    "    columns = \", \".join([f\"`{col}` VARCHAR(255)\" for col in df.columns])\n",
    "    \n",
    "    create_table_query = f\"\"\"\n",
    "    CREATE TABLE IF NOT EXISTS {table_name} (id INT AUTO_INCREMENT PRIMARY KEY,{columns})\n",
    "    \"\"\"\n",
    "    \n",
    "    cursor.execute(create_table_query)\n",
    "\n",
    "def insert_data(cursor, df):\n",
    "    table_name = \"VrindaStoreDataTable\"\n",
    "    \n",
    "    for _, row in df.iterrows():\n",
    "        columns = \", \".join([f\"`{col}`\" for col in df.columns])\n",
    "        values = \", \".join([f\"'{str(value)}'\" for value in row])\n",
    "        \n",
    "        insert_query = f\"\"\"\n",
    "        INSERT INTO {table_name} ({columns})\n",
    "        VALUES ({values})\n",
    "        \"\"\"\n",
    "        \n",
    "        cursor.execute(insert_query)\n",
    "\n",
    "def main():\n",
    "    try:\n",
    "        conn = create_mysql_connection()\n",
    "        cursor = conn.cursor()\n",
    "        \n",
    "        create_schema(cursor)\n",
    "        \n",
    "        df = read_excel(file_path)\n",
    "        \n",
    "        create_table_from_df(cursor, df)\n",
    "        \n",
    "        insert_data(cursor, df)\n",
    "        \n",
    "        conn.commit()\n",
    "        \n",
    "        print(f\"Data from {file_path} has been successfully uploaded to MySQL.\")\n",
    "    \n",
    "    except mysql.connector.Error as err:\n",
    "        print(f\"Error: {err}\")\n",
    "    \n",
    "    finally:\n",
    "        cursor.close()\n",
    "        conn.close()\n",
    "\n",
    "if __name__ == \"__main__\":\n",
    "    main()\n"
   ]
  },
  {
   "cell_type": "code",
   "execution_count": null,
   "id": "5dfd6683-4621-4e0b-b862-25dfc257a2ff",
   "metadata": {},
   "outputs": [],
   "source": []
  }
 ],
 "metadata": {
  "kernelspec": {
   "display_name": "Python 3 (ipykernel)",
   "language": "python",
   "name": "python3"
  },
  "language_info": {
   "codemirror_mode": {
    "name": "ipython",
    "version": 3
   },
   "file_extension": ".py",
   "mimetype": "text/x-python",
   "name": "python",
   "nbconvert_exporter": "python",
   "pygments_lexer": "ipython3",
   "version": "3.12.7"
  }
 },
 "nbformat": 4,
 "nbformat_minor": 5
}
