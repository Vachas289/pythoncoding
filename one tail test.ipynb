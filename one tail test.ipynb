{
 "cells": [
  {
   "cell_type": "markdown",
   "id": "f9ebb0c1-2d97-413d-b093-602a39b8dbb9",
   "metadata": {},
   "source": [
    "one tail test\n",
    "\n"
   ]
  },
  {
   "cell_type": "code",
   "execution_count": 12,
   "id": "cc6399f8-95b6-4024-aae8-b5be03d2ff83",
   "metadata": {},
   "outputs": [],
   "source": [
    "import numpy as np\n",
    "import pandas as pd\n",
    "from scipy import stats\n",
    "\n",
    "def Ztest(sample_mean,population_mean,population_std_dev,sample_size,alpha=0.05):\n",
    "    z_statistic = (sample_mean - population_mean) / (population_std_dev / np.sqrt(sample_size))\n",
    "\n",
    "    critical_value = stats.norm.ppf(1 - alpha)\n",
    "\n",
    "    print(f\"Z-Statistic: {z_statistic}\")\n",
    "    print(f\"Critical Value: {critical_value}\")\n",
    "\n",
    "    if z_statistic > critical_value:\n",
    "        print(\"Reject the null hypothesis (H₀). The sample mean is significantly greater than the population mean.\")\n",
    "    else:\n",
    "        print(\"Fail to reject the null hypothesis (H₀). The sample mean is not significantly greater than the population mean.\")\n",
    "\n",
    "    p_value = 1 - stats.norm.cdf(z_statistic)\n",
    "    print(f\"P-value: {p_value}\")\n",
    "\n",
    "    if p_value <= alpha:\n",
    "        print(\"Reject the null hypothesis based on p-value.\")\n",
    "    else:\n",
    "        print(\"Fail to reject the null hypothesis based on p-value.\")\n"
   ]
  },
  {
   "cell_type": "code",
   "execution_count": 13,
   "id": "9f503e08-22cc-400a-ad0f-41c870e10fdf",
   "metadata": {},
   "outputs": [
    {
     "name": "stdout",
     "output_type": "stream",
     "text": [
      "Z-Statistic: 118.5867353596384\n",
      "Critical Value: 1.6448536269514722\n",
      "Reject the null hypothesis (H₀). The sample mean is significantly greater than the population mean.\n",
      "P-value: 0.0\n",
      "Reject the null hypothesis based on p-value.\n"
     ]
    }
   ],
   "source": [
    "sample_mean = 688.1932\n",
    "population_mean = 500\n",
    "population_std_dev = 268.5821\n",
    "sample_size = 28643\n",
    "Ztest(sample_mean,population_mean,population_std_dev,sample_size)"
   ]
  },
  {
   "cell_type": "code",
   "execution_count": 14,
   "id": "36278860-bd2a-4f5a-984f-565ba8b6226f",
   "metadata": {},
   "outputs": [
    {
     "name": "stdout",
     "output_type": "stream",
     "text": [
      "Z-Statistic: 11.367478549691768\n",
      "Critical Value: 1.6448536269514722\n",
      "Reject the null hypothesis (H₀). The sample mean is significantly greater than the population mean.\n",
      "P-value: 0.0\n",
      "Reject the null hypothesis based on p-value.\n"
     ]
    }
   ],
   "source": [
    "avg_quantity = 1.0063196\n",
    "avg_assumed = 1\n",
    "std = 0.0940881\n",
    "size = 28643\n",
    "Ztest(avg_quantity,avg_assumed,std,size)"
   ]
  },
  {
   "cell_type": "code",
   "execution_count": null,
   "id": "946c54e2-38de-4325-8bac-8da4c84aa135",
   "metadata": {},
   "outputs": [],
   "source": []
  }
 ],
 "metadata": {
  "kernelspec": {
   "display_name": "Python 3 (ipykernel)",
   "language": "python",
   "name": "python3"
  },
  "language_info": {
   "codemirror_mode": {
    "name": "ipython",
    "version": 3
   },
   "file_extension": ".py",
   "mimetype": "text/x-python",
   "name": "python",
   "nbconvert_exporter": "python",
   "pygments_lexer": "ipython3",
   "version": "3.12.7"
  }
 },
 "nbformat": 4,
 "nbformat_minor": 5
}
