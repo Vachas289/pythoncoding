{
 "cells": [
  {
   "cell_type": "code",
   "execution_count": 1,
   "id": "358fa9b9-3bf5-4d74-93c6-cab54370e8b6",
   "metadata": {},
   "outputs": [],
   "source": [
    "import numpy as np\n"
   ]
  },
  {
   "cell_type": "markdown",
   "id": "ebe9dc2e-9e4b-49ea-ba29-155eeb6c5849",
   "metadata": {},
   "source": [
    "question -5 solution "
   ]
  },
  {
   "cell_type": "code",
   "execution_count": 25,
   "id": "44411f03-fa77-4986-9b52-9a4710035a13",
   "metadata": {},
   "outputs": [
    {
     "name": "stdout",
     "output_type": "stream",
     "text": [
      "mean3  20.0\n",
      "sum100  2000\n",
      "sum3  60\n",
      "mean97  20.0\n",
      "sum100_square 900\n",
      "sum3_square 6.0\n",
      "sum97_square  894.0\n",
      "varience97  9.216494845360824\n",
      "std97 3.0358680546691788\n"
     ]
    }
   ],
   "source": [
    "m100= 20\n",
    "std100 = 3\n",
    "n100 = 100\n",
    "\n",
    "incorrect_obs = np.array([21,21,18])\n",
    "m3= incorrect_obs.mean()\n",
    "print(\"mean3 \",m3)\n",
    "n3 = len(incorrect_obs)\n",
    "\n",
    "sum100 = m100 * n100\n",
    "print(\"sum100 \",sum100)\n",
    "\n",
    "sum3 = incorrect_obs.sum()\n",
    "print(\"sum3 \",sum3)\n",
    "\n",
    "n97 = n100 - n3\n",
    "sum97 = sum100-sum3\n",
    "mean97 = sum97/n97\n",
    "print(\"mean97 \",mean97)\n",
    "\n",
    "sum100_square = std100**2 *n100\n",
    "print(\"sum100_square\",sum100_square)\n",
    "sum3_square =sum([(x-m3)**2 for x in incorrect_obs])\n",
    "print(\"sum3_square\",sum3_square)\n",
    "\n",
    "sum97_square= sum100_square - sum3_square\n",
    "print(\"sum97_square \",sum97_square)\n",
    "var97= sum97_square/n97\n",
    "print(\"varience97 \",var97)\n",
    "std97 = var97**0.5\n",
    "print(\"std97\",std97)"
   ]
  },
  {
   "cell_type": "markdown",
   "id": "21d97429-5151-4ff6-bdd0-7e62fd87d268",
   "metadata": {},
   "source": [
    "question -3(a)- solution"
   ]
  },
  {
   "cell_type": "code",
   "execution_count": 30,
   "id": "b58bd3ba-4cd4-4fda-91de-520343a16806",
   "metadata": {},
   "outputs": [
    {
     "name": "stdin",
     "output_type": "stream",
     "text": [
      "Enter the value of n:  2098903\n"
     ]
    },
    {
     "name": "stdout",
     "output_type": "stream",
     "text": [
      "Array from 1 to 2098903 : [      1       2       3 ... 2098901 2098902 2098903]\n",
      "mean 1049452.0\n",
      "std 605901.1060263878\n"
     ]
    }
   ],
   "source": [
    "n = int(input(\"Enter the value of n: \"))\n",
    "array = np.arange(1, n + 1)\n",
    "print(\"Array from 1 to\", n, \":\", array)\n",
    "print(\"mean\",array.mean())\n",
    "print(\"std\",array.std())"
   ]
  },
  {
   "cell_type": "markdown",
   "id": "527d9821-370b-4512-b3e6-9b97c28e4b41",
   "metadata": {},
   "source": [
    "question -6- solution"
   ]
  },
  {
   "cell_type": "code",
   "execution_count": 58,
   "id": "bb3d3a63-8575-4952-ae99-6d100b8c1de9",
   "metadata": {},
   "outputs": [
    {
     "name": "stdout",
     "output_type": "stream",
     "text": [
      "x2 ,y2 [25, 16, 9, 4, 1] [81, 64, 100, 121, 144]\n",
      "xy [45, 32, 30, 22, 12]\n",
      "up 141\n",
      "sumx2 55\n",
      "sumy2 510\n",
      "down 167.48134224444226\n",
      "correlation  0.8418848219774103\n"
     ]
    }
   ],
   "source": [
    "x1 = [5,4,3,2,1]\n",
    "y1 = [9,8,10,11,12]\n",
    "\n",
    "x2 = [x**2 for x in x]\n",
    "y2= [y**2 for y in y]\n",
    "print(\"x2 ,y2\",x2,y2)\n",
    "\n",
    "xy= [x1[i]*y[i]for i in range(len(x1))]\n",
    "print(\"xy\",xy)\n",
    "\n",
    "sum_xy= sum(xy[i]for i in range(len(xy)))\n",
    "up= sum_xy\n",
    "print(\"up\",up)\n",
    "\n",
    "sum_x2= sum(x2[i] for i in range(len(x2)))\n",
    "print(\"sumx2\",sum_x2)\n",
    "\n",
    "sum_y2 = sum(y2[i] for i in range(len(y2)))\n",
    "print(\"sumy2\",sum_y2)\n",
    "\n",
    "down = (sum_x2*sum_y2)**0.5\n",
    "print(\"down\",down)\n",
    "\n",
    "correlation = up/down\n",
    "print(\"correlation \",correlation)"
   ]
  },
  {
   "cell_type": "markdown",
   "id": "a2960523-7d5d-47df-971a-e17ad6b78ba0",
   "metadata": {},
   "source": [
    "question -7- solution"
   ]
  },
  {
   "cell_type": "code",
   "execution_count": 61,
   "id": "4bf827f9-4339-4be0-82c8-b82223955e2e",
   "metadata": {},
   "outputs": [
    {
     "name": "stdout",
     "output_type": "stream",
     "text": [
      "t_statistc -1.846153846153845\n",
      "df 99\n",
      "One-tailed p-value (left): 0.03392886731218836\n",
      "One-tailed p-value (right): 0.9660711326878116\n"
     ]
    }
   ],
   "source": [
    "from scipy.stats import stats\n",
    "mean_s = 26.8\n",
    "mean_p = 28\n",
    "std_s = 6.5\n",
    "alpha = 0.05\n",
    "n=100\n",
    "\n",
    "t_statistic = (mean_s - mean_p)/(std_s/n**0.5)\n",
    "print(\"t_statistc\",t_statistic)\n",
    "\n",
    "df = n-1\n",
    "print(\"df\",df)\n",
    "\n",
    "one_tailed_p_value_left = t.cdf(t_statistic, df) \n",
    "one_tailed_p_value_right = 1 - t.cdf(t_statistic, df) \n",
    "print(\"One-tailed p-value (left):\", one_tailed_p_value_left) \n",
    "print(\"One-tailed p-value (right):\", one_tailed_p_value_right)"
   ]
  },
  {
   "cell_type": "markdown",
   "id": "25506eff-a3aa-478b-914f-eeb5c216ca52",
   "metadata": {},
   "source": [
    "question - 8 -solution"
   ]
  },
  {
   "cell_type": "code",
   "execution_count": 4,
   "id": "5b6968c8-2967-4d03-9018-8f89763a53e4",
   "metadata": {},
   "outputs": [
    {
     "name": "stdout",
     "output_type": "stream",
     "text": [
      "Chi-Square Statistic: 0.4700239808153477\n",
      "Critical Value: 7.814727903251179\n",
      "Fail to reject the null hypothesis. The observed frequencies are not significantly different from the expected frequencies.\n"
     ]
    }
   ],
   "source": [
    "observed = np.array([315, 101, 108, 32])\n",
    "\n",
    "total = np.sum(observed)\n",
    "expected = np.array([9/16*total, 3/16*total, 3/16*total, 1/16*total])\n",
    "\n",
    "chi_square_statistic = np.sum((observed - expected)**2 / expected)\n",
    "\n",
    "dof = len(observed) - 1\n",
    "\n",
    "alpha = 0.05\n",
    "critical_value = chi2.ppf(1 - alpha, dof)\n",
    "\n",
    "print(\"Chi-Square Statistic:\", chi_square_statistic)\n",
    "print(\"Critical Value:\", critical_value)\n",
    "\n",
    "if chi_square_statistic < critical_value:\n",
    "    print(\"Fail to reject the null hypothesis. The observed frequencies are not significantly different from the expected frequencies.\")\n",
    "else:\n",
    "    print(\"Reject the null hypothesis. The observed frequencies are significantly different from the expected frequencies.\")\n"
   ]
  },
  {
   "cell_type": "code",
   "execution_count": null,
   "id": "c74c04d7-25d0-4e89-8d48-8532a1f2ea73",
   "metadata": {},
   "outputs": [],
   "source": []
  }
 ],
 "metadata": {
  "kernelspec": {
   "display_name": "Python 3 (ipykernel)",
   "language": "python",
   "name": "python3"
  },
  "language_info": {
   "codemirror_mode": {
    "name": "ipython",
    "version": 3
   },
   "file_extension": ".py",
   "mimetype": "text/x-python",
   "name": "python",
   "nbconvert_exporter": "python",
   "pygments_lexer": "ipython3",
   "version": "3.12.7"
  }
 },
 "nbformat": 4,
 "nbformat_minor": 5
}
