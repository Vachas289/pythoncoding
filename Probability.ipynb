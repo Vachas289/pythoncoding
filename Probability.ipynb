{
 "cells": [
  {
   "cell_type": "code",
   "execution_count": 11,
   "id": "6fe5d1ac-60dd-4ee9-a89f-da31a312beb7",
   "metadata": {},
   "outputs": [
    {
     "name": "stdout",
     "output_type": "stream",
     "text": [
      "Probability of rolling a 3: 0.16666666666666666\n"
     ]
    }
   ],
   "source": [
    "sample_space = [1, 2, 3, 4, 5, 6]\n",
    "\n",
    "P_rolling_3 = 1 / len(sample_space) \n",
    "print(f\"Probability of rolling a 3: {P_rolling_3}\")\n"
   ]
  },
  {
   "cell_type": "code",
   "execution_count": 10,
   "id": "a185d5df-c8cf-47d8-a7fe-bd3f3b8e9416",
   "metadata": {},
   "outputs": [
    {
     "name": "stdout",
     "output_type": "stream",
     "text": [
      "Probability of drawing a Red card: 0.5\n"
     ]
    }
   ],
   "source": [
    "cards = ['Red'] * 26 + ['Black'] * 26 \n",
    "\n",
    "\n",
    "P_red_card = cards.count('Red') / len(cards)\n",
    "print(f\"Probability of drawing a Red card: {P_red_card}\")\n"
   ]
  },
  {
   "cell_type": "code",
   "execution_count": 9,
   "id": "8999835f-daef-4ddd-882a-2710dae2b2e9",
   "metadata": {},
   "outputs": [
    {
     "name": "stdout",
     "output_type": "stream",
     "text": [
      "Conditional Probability of Red Face given Face Card: 0.009615384615384616\n"
     ]
    }
   ],
   "source": [
    "face_cards = ['Red Face'] * 6 + ['Black Face'] * 6 + ['Other'] * 40 \n",
    "\n",
    "P_face_card = face_cards.count('Red Face') / len(face_cards)  \n",
    "P_red_given_face = P_face_card / (face_cards.count('Red Face') + face_cards.count('Black Face'))\n",
    "print(f\"Conditional Probability of Red Face given Face Card: {P_red_given_face}\")\n"
   ]
  },
  {
   "cell_type": "code",
   "execution_count": 4,
   "id": "88c89078-6d2f-4ab7-b69d-d19244d020e0",
   "metadata": {},
   "outputs": [
    {
     "name": "stdout",
     "output_type": "stream",
     "text": [
      "P(Heads and Roll 3) = P(Heads) * P(Roll 3) = 0.08333333333333333\n",
      "Joint Probability of Heads and Rolling a 3: 0.08333333333333333\n"
     ]
    }
   ],
   "source": [
    "import random\n",
    "\n",
    "coin_flip = random.choice(['Heads', 'Tails'])\n",
    "die_roll = random.randint(1, 6)\n",
    "\n",
    "P_heads = 1 / 2  \n",
    "P_roll_3 = 1 / 6  \n",
    "\n",
    "P_heads_and_3 = 1 / 12  \n",
    "\n",
    "print(f\"P(Heads and Roll 3) = P(Heads) * P(Roll 3) = {P_heads * P_roll_3}\")\n",
    "print(f\"Joint Probability of Heads and Rolling a 3: {P_heads_and_3}\")\n"
   ]
  },
  {
   "cell_type": "code",
   "execution_count": 5,
   "id": "b5f65ec7-1de8-4cf9-8825-46b00265727b",
   "metadata": {},
   "outputs": [
    {
     "name": "stdout",
     "output_type": "stream",
     "text": [
      "Probability of having the disease given a positive test: 0.16101694915254236\n"
     ]
    }
   ],
   "source": [
    "P_disease = 0.01  \n",
    "P_positive_given_disease = 0.95 \n",
    "P_positive_given_no_disease = 0.05  \n",
    "\n",
    "P_positive = P_disease * P_positive_given_disease + (1 - P_disease) * P_positive_given_no_disease\n",
    "\n",
    "P_disease_given_positive = (P_positive_given_disease * P_disease) / P_positive\n",
    "print(f\"Probability of having the disease given a positive test: {P_disease_given_positive}\")\n",
    "\n"
   ]
  },
  {
   "cell_type": "code",
   "execution_count": 7,
   "id": "6d907bc6-1e1d-4024-ae7f-f8f4b6806d5c",
   "metadata": {},
   "outputs": [
    {
     "name": "stdout",
     "output_type": "stream",
     "text": [
      "Expected Value (Mean) of a dice roll: 3.5\n",
      "Variance of a dice roll: 2.9166666666666665\n"
     ]
    }
   ],
   "source": [
    "import numpy as np\n",
    "die_faces = [1, 2, 3, 4, 5, 6]\n",
    "E_dice = np.mean(die_faces)\n",
    "Var_dice = np.var(die_faces)\n",
    "\n",
    "print(f\"Expected Value (Mean) of a dice roll: {E_dice}\")\n",
    "print(f\"Variance of a dice roll: {Var_dice}\")\n"
   ]
  },
  {
   "cell_type": "code",
   "execution_count": null,
   "id": "088da717-08b2-4561-98ef-d391a73df15a",
   "metadata": {},
   "outputs": [],
   "source": []
  }
 ],
 "metadata": {
  "kernelspec": {
   "display_name": "Python 3 (ipykernel)",
   "language": "python",
   "name": "python3"
  },
  "language_info": {
   "codemirror_mode": {
    "name": "ipython",
    "version": 3
   },
   "file_extension": ".py",
   "mimetype": "text/x-python",
   "name": "python",
   "nbconvert_exporter": "python",
   "pygments_lexer": "ipython3",
   "version": "3.12.7"
  }
 },
 "nbformat": 4,
 "nbformat_minor": 5
}
