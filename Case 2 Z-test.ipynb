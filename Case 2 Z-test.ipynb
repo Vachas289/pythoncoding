{
 "cells": [
  {
   "cell_type": "code",
   "execution_count": 5,
   "id": "f15e2920-bc98-49df-afea-be7306082b0b",
   "metadata": {},
   "outputs": [],
   "source": [
    "import numpy as np\n",
    "from scipy import stats\n",
    "import math as math"
   ]
  },
  {
   "cell_type": "code",
   "execution_count": 8,
   "id": "1ae937a2-f3b1-4043-ac21-9086b9f88ef1",
   "metadata": {},
   "outputs": [
    {
     "data": {
      "text/plain": [
       "'Data: A sample of 25 individuals is taken, and their cholesterol levels are measured.\\n\\nCholesterol Levels (mg/dL): 205, 198, 210, 190, 215, 205, 200, 192, 198, 205, 198, 202, 208, 200, 205, 198, 205, 210, 192, 205, 198, 205, 210, 192, 205.\\n\\nPopulations Mean = 200\\n\\nPopulation Standard Deviation (σ): 5 mg/dL(given for this problem)'"
      ]
     },
     "execution_count": 8,
     "metadata": {},
     "output_type": "execute_result"
    }
   ],
   "source": [
    "'''Data: A sample of 25 individuals is taken, and their cholesterol levels are measured.\n",
    "\n",
    "Cholesterol Levels (mg/dL): 205, 198, 210, 190, 215, 205, 200, 192, 198, 205, 198, 202, 208, 200, 205, 198, 205, 210, 192, 205, 198, 205, 210, 192, 205.\n",
    "\n",
    "Populations Mean = 200\n",
    "\n",
    "Population Standard Deviation (σ): 5 mg/dL(given for this problem)'''"
   ]
  },
  {
   "cell_type": "code",
   "execution_count": 7,
   "id": "2a7f9a5e-bbdc-402a-89f1-b1522bea8a45",
   "metadata": {},
   "outputs": [
    {
     "name": "stdout",
     "output_type": "stream",
     "text": [
      "we reject the null hypothesis the avg is different from the population mean which is 200\n"
     ]
    }
   ],
   "source": [
    "population_mean = 200\n",
    "population_std = 5\n",
    "null_hypo = \"the avg is same from the population mean which is 200\"\n",
    "alternative_hypo = \"the avg is different from the population mean which is 200\"\n",
    "sample = np.array([205, 198, 210, 190, 215, 205, 200, 192, 198, 205, 198, 202, 208, 200, 205, 198, 205, 210, 192, 205, 198, 205, 210, 192, 205])\n",
    "sample_size = len(sample)\n",
    "alfa = 0.05\n",
    "\n",
    "critical_value_left = stats.norm.ppf(alfa/2)\n",
    "critical_value_right = -critical_value_left\n",
    "\n",
    "sample_mean = sample.mean()\n",
    "z_score = ((sample_mean - population_mean)/(population_std/math.sqrt(sample_size)))\n",
    "\n",
    "if abs(z_score) > max(abs(critical_value_left),abs(critical_value_right)):\n",
    "    print(\"we reject the null hypothesis\",alternative_hypo)\n",
    "else:\n",
    "    print(\"we fail to reject the null hypothesis\",null_hypo)\n"
   ]
  },
  {
   "cell_type": "code",
   "execution_count": null,
   "id": "211c2549-ea1f-4df9-a0f6-f172a35f2afc",
   "metadata": {},
   "outputs": [],
   "source": []
  }
 ],
 "metadata": {
  "kernelspec": {
   "display_name": "Python 3 (ipykernel)",
   "language": "python",
   "name": "python3"
  },
  "language_info": {
   "codemirror_mode": {
    "name": "ipython",
    "version": 3
   },
   "file_extension": ".py",
   "mimetype": "text/x-python",
   "name": "python",
   "nbconvert_exporter": "python",
   "pygments_lexer": "ipython3",
   "version": "3.12.7"
  }
 },
 "nbformat": 4,
 "nbformat_minor": 5
}
