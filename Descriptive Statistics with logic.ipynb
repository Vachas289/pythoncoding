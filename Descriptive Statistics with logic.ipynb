{
 "cells": [
  {
   "cell_type": "code",
   "execution_count": 1,
   "id": "44f127b9-86f8-4efb-b829-685d5eaf871f",
   "metadata": {},
   "outputs": [],
   "source": [
    "import numpy as np\n",
    "import pandas as pd"
   ]
  },
  {
   "cell_type": "code",
   "execution_count": 11,
   "id": "717dcf1c-5742-45a0-98d9-6fd647e96025",
   "metadata": {},
   "outputs": [
    {
     "name": "stdout",
     "output_type": "stream",
     "text": [
      "mean= 5.0\n"
     ]
    }
   ],
   "source": [
    "data= [1,2,3,4,5,6,7,8,9,10,1,4,6,2,3,5,8,9,7,6,5,4,3,2]\n",
    "mean = np.mean(data)\n",
    "print(f\"mean= {mean}\")"
   ]
  },
  {
   "cell_type": "code",
   "execution_count": 12,
   "id": "b7ccc962-cf58-4999-9672-3b381d9123f2",
   "metadata": {},
   "outputs": [
    {
     "name": "stdout",
     "output_type": "stream",
     "text": [
      "median = 5.0\n"
     ]
    }
   ],
   "source": [
    "median = np.median(data)\n",
    "print(f\"median = {median}\")"
   ]
  },
  {
   "cell_type": "code",
   "execution_count": 13,
   "id": "74b3a2d7-85d9-4235-a0d5-602d03f5e69d",
   "metadata": {},
   "outputs": [
    {
     "name": "stdout",
     "output_type": "stream",
     "text": [
      "mode=2\n"
     ]
    }
   ],
   "source": [
    "mode= pd.Series(data).mode()[0]\n",
    "print(f\"mode={mode}\")"
   ]
  },
  {
   "cell_type": "code",
   "execution_count": 14,
   "id": "3c154bf6-5bc7-4f93-aa5b-18eb97c21b37",
   "metadata": {},
   "outputs": [
    {
     "name": "stdout",
     "output_type": "stream",
     "text": [
      "std=2.581988897471611\n"
     ]
    }
   ],
   "source": [
    "std= np.std(data)\n",
    "print(f\"std={std}\")"
   ]
  },
  {
   "cell_type": "code",
   "execution_count": 15,
   "id": "bbc184aa-a533-4368-8c70-d955f2023af8",
   "metadata": {},
   "outputs": [
    {
     "name": "stdout",
     "output_type": "stream",
     "text": [
      "var=6.666666666666667\n"
     ]
    }
   ],
   "source": [
    "var= np.var(data)\n",
    "print(f\"var={var}\")"
   ]
  },
  {
   "cell_type": "code",
   "execution_count": 16,
   "id": "2d65ea7c-ab6b-457c-b26b-e34221002669",
   "metadata": {},
   "outputs": [
    {
     "name": "stdout",
     "output_type": "stream",
     "text": [
      "Skewness: 0.2178553132241672, Kurtosis: -0.9937500000000004\n"
     ]
    }
   ],
   "source": [
    "from scipy.stats import skew, kurtosis\n",
    "skewness = skew(data)\n",
    "kurt = kurtosis(data)\n",
    "print(f\"Skewness: {skewness}, Kurtosis: {kurt}\")"
   ]
  },
  {
   "cell_type": "markdown",
   "id": "d440b342-b9da-47b3-a748-2db379c055bb",
   "metadata": {},
   "source": [
    "LOGICALLY SOLUTION OF DESCRIPTIVE STATISTICS\n",
    "\n",
    "\n"
   ]
  },
  {
   "cell_type": "code",
   "execution_count": 17,
   "id": "bb6d8b22-5e8e-4dd9-a64d-515fcbd12094",
   "metadata": {},
   "outputs": [
    {
     "name": "stdout",
     "output_type": "stream",
     "text": [
      "Mean: 5.0\n"
     ]
    }
   ],
   "source": [
    "# Mean\n",
    "total = sum(data)\n",
    "count = len(data)\n",
    "mean = total / count\n",
    "print(\"Mean:\", mean)\n"
   ]
  },
  {
   "cell_type": "code",
   "execution_count": 18,
   "id": "c8ae8d87-b1c0-47fa-8b95-0eae92444fdc",
   "metadata": {},
   "outputs": [
    {
     "name": "stdout",
     "output_type": "stream",
     "text": [
      "Median: 5.0\n"
     ]
    }
   ],
   "source": [
    "# Median\n",
    "data_sorted = sorted(data)\n",
    "count = len(data)\n",
    "\n",
    "if count % 2 == 0:  # Even \n",
    "    median = (data_sorted[count // 2 - 1] + data_sorted[count // 2]) / 2\n",
    "else:  # Odd\n",
    "    median = data_sorted[count // 2]\n",
    "    \n",
    "print(\"Median:\", median)\n"
   ]
  },
  {
   "cell_type": "code",
   "execution_count": 19,
   "id": "76ab40b7-ec81-4087-943b-581b1a38f664",
   "metadata": {},
   "outputs": [
    {
     "name": "stdout",
     "output_type": "stream",
     "text": [
      "Mode: 2 with count: 3\n"
     ]
    }
   ],
   "source": [
    "# Mode\n",
    "frequency = {}\n",
    "for item in data:\n",
    "    frequency[item] = frequency.get(item, 0) + 1\n",
    "\n",
    "mode = max(frequency, key=frequency.get)\n",
    "mode_count = frequency[mode]\n",
    "\n",
    "print(\"Mode:\", mode, \"with count:\", mode_count)\n"
   ]
  },
  {
   "cell_type": "code",
   "execution_count": 20,
   "id": "703ec825-c2ef-4aa7-82cd-f477edeba98f",
   "metadata": {},
   "outputs": [
    {
     "name": "stdout",
     "output_type": "stream",
     "text": [
      "Range: 9\n"
     ]
    }
   ],
   "source": [
    "# Range\n",
    "range_value = max(data) - min(data)\n",
    "print(\"Range:\", range_value)\n"
   ]
  },
  {
   "cell_type": "code",
   "execution_count": 21,
   "id": "78da62c5-a94a-484a-b777-44cf3299a147",
   "metadata": {},
   "outputs": [
    {
     "name": "stdout",
     "output_type": "stream",
     "text": [
      "MAD: 2.1666666666666665\n"
     ]
    }
   ],
   "source": [
    "# Mean Absolute Deviation\n",
    "mean = sum(data) / len(data)\n",
    "mad = sum(abs(x - mean) for x in data) / len(data)\n",
    "print(\"MAD:\", mad)\n"
   ]
  },
  {
   "cell_type": "code",
   "execution_count": 22,
   "id": "f51734bd-fde7-4bdd-8e34-b09853d6f30b",
   "metadata": {},
   "outputs": [
    {
     "name": "stdout",
     "output_type": "stream",
     "text": [
      "Variance: 6.666666666666667\n"
     ]
    }
   ],
   "source": [
    "# Variance\n",
    "mean = sum(data) / len(data)\n",
    "variance = sum((x - mean) ** 2 for x in data) / len(data)\n",
    "print(\"Variance:\", variance)\n"
   ]
  },
  {
   "cell_type": "code",
   "execution_count": 25,
   "id": "9d272b12-793f-432d-98ab-f28a719b5c93",
   "metadata": {},
   "outputs": [
    {
     "name": "stdout",
     "output_type": "stream",
     "text": [
      "Standard Deviation: 2.581988897471611\n"
     ]
    }
   ],
   "source": [
    "# Standard Deviation\n",
    "std_deviation = variance ** 0.5\n",
    "print(\"Standard Deviation:\", std_deviation)"
   ]
  },
  {
   "cell_type": "code",
   "execution_count": 26,
   "id": "deb59e09-337a-4e37-80c5-15b6298fbfad",
   "metadata": {},
   "outputs": [
    {
     "name": "stdout",
     "output_type": "stream",
     "text": [
      "Skewness: 0.2178553132241672\n"
     ]
    }
   ],
   "source": [
    "# Skewness\n",
    "skewness = sum((x - mean) ** 3 for x in data) / len(data) / std_deviation ** 3\n",
    "print(\"Skewness:\", skewness)"
   ]
  },
  {
   "cell_type": "code",
   "execution_count": 27,
   "id": "d576b262-d2f0-4ccf-83f5-190985d8e7ab",
   "metadata": {},
   "outputs": [
    {
     "name": "stdout",
     "output_type": "stream",
     "text": [
      "Kurtosis: -0.9937499999999999\n"
     ]
    }
   ],
   "source": [
    "# Kurtosis\n",
    "kurtosis = sum((x - mean) ** 4 for x in data) / len(data) / std_deviation ** 4 - 3\n",
    "print(\"Kurtosis:\", kurtosis)"
   ]
  },
  {
   "cell_type": "code",
   "execution_count": null,
   "id": "a18bb8fb-86a7-4379-bd52-fc800c0ca176",
   "metadata": {},
   "outputs": [],
   "source": []
  }
 ],
 "metadata": {
  "kernelspec": {
   "display_name": "Python 3 (ipykernel)",
   "language": "python",
   "name": "python3"
  },
  "language_info": {
   "codemirror_mode": {
    "name": "ipython",
    "version": 3
   },
   "file_extension": ".py",
   "mimetype": "text/x-python",
   "name": "python",
   "nbconvert_exporter": "python",
   "pygments_lexer": "ipython3",
   "version": "3.12.7"
  }
 },
 "nbformat": 4,
 "nbformat_minor": 5
}
