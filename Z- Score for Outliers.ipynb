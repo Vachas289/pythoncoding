{
 "cells": [
  {
   "cell_type": "code",
   "execution_count": 1,
   "id": "7f136720-2b9f-4745-a3d8-c37995699f79",
   "metadata": {},
   "outputs": [],
   "source": [
    "import pandas as pd\n",
    "import numpy as np"
   ]
  },
  {
   "cell_type": "code",
   "execution_count": 10,
   "id": "40496905-e3ca-4b1b-b729-3c48a2d49992",
   "metadata": {},
   "outputs": [],
   "source": [
    "df = pd.read_csv(\"C:/Users/al6436/Desktop/Vrinda Store Data/vrindastore.csv\")"
   ]
  },
  {
   "cell_type": "code",
   "execution_count": 11,
   "id": "e8154b0d-3ffb-4cd3-9ad2-544f3870ca2b",
   "metadata": {},
   "outputs": [
    {
     "name": "stdout",
     "output_type": "stream",
     "text": [
      "[0         376\n",
      "1        1449\n",
      "2         453\n",
      "3         729\n",
      "4         544\n",
      "         ... \n",
      "31042     565\n",
      "31043     939\n",
      "31044    1115\n",
      "31045     399\n",
      "31046     791\n",
      "Name: Amount, Length: 31047, dtype: int64]\n"
     ]
    }
   ],
   "source": [
    "data = [df['Amount']]\n",
    "print(data)"
   ]
  },
  {
   "cell_type": "code",
   "execution_count": 15,
   "id": "292a456a-e350-4a54-970a-42c8bcafdd9d",
   "metadata": {},
   "outputs": [
    {
     "name": "stdout",
     "output_type": "stream",
     "text": [
      "682.0748220439978\n",
      "268.58217349679825\n"
     ]
    }
   ],
   "source": [
    "mean_data= data.mean()\n",
    "std_data = data.std()\n",
    "print(mean_data)\n",
    "print(std_data)"
   ]
  },
  {
   "cell_type": "code",
   "execution_count": 22,
   "id": "e0dbe28d-a019-4e48-86b0-2189e9f3191e",
   "metadata": {},
   "outputs": [
    {
     "name": "stdout",
     "output_type": "stream",
     "text": [
      "0       -1.139595\n",
      "1        2.855458\n",
      "2       -0.852904\n",
      "3        0.174714\n",
      "4       -0.514088\n",
      "           ...   \n",
      "31042   -0.435899\n",
      "31043    0.956598\n",
      "31044    1.611891\n",
      "31045   -1.053960\n",
      "31046    0.405556\n",
      "Name: Amount, Length: 31047, dtype: float64\n"
     ]
    }
   ],
   "source": [
    "z_scores = (data - mean_amount) / std_amount\n",
    "print(z_scores)"
   ]
  },
  {
   "cell_type": "code",
   "execution_count": 27,
   "id": "3b80be13-bee2-44bb-80fb-757a40a4748d",
   "metadata": {},
   "outputs": [
    {
     "name": "stdout",
     "output_type": "stream",
     "text": [
      "       Index             Order ID  Customer ID Gender  Age     Group  \\\n",
      "369      370  404-7396160-3109963      7396160  Women   46     Adult   \n",
      "512      513  407-1994630-2789904      1994630  Women   22  Teenager   \n",
      "1105    1106  402-3600740-4760302      3600740  Women   38     Adult   \n",
      "1205    1206  403-7002542-6292300      7002542  Women   22  Teenager   \n",
      "1255    1256  407-8321158-5315544      8321158  Women   20  Teenager   \n",
      "...      ...                  ...          ...    ...  ...       ...   \n",
      "30322  30323  406-0375965-9281124       375965    Men   67    Senior   \n",
      "30403  30404  406-4398087-5429107      4398087    Men   75    Senior   \n",
      "30415  30416  402-1138267-4734758      1138267  Women   60    Senior   \n",
      "30493  30494  408-9771426-7682716      9771426  Women   33     Adult   \n",
      "30963  30964  406-1767177-1581906      1767177  Women   42     Adult   \n",
      "\n",
      "            Date Month     Status Channel  ...  Size Qty Currency  Amount  \\\n",
      "369    12/4/2022   Dec  Delivered  Amazon  ...     L   1      INR    1523   \n",
      "512    12/4/2022   Dec  Delivered   Nalli  ...     M   1      INR    1523   \n",
      "1105   11/4/2022   Nov  Delivered  Amazon  ...     M   1      INR    1556   \n",
      "1205   11/4/2022   Nov  Delivered  Amazon  ...    XL   1      INR    1695   \n",
      "1255   11/4/2022   Nov  Delivered   Nalli  ...   3XL   1      INR    1698   \n",
      "...          ...   ...        ...     ...  ...   ...  ..      ...     ...   \n",
      "30322   1/6/2022   Jan  Delivered  Myntra  ...     S   1      INR    1523   \n",
      "30403   1/6/2022   Jan  Delivered  Amazon  ...    XL   1      INR    1523   \n",
      "30415   1/6/2022   Jan  Delivered  Amazon  ...   3XL   2      INR    2016   \n",
      "30493   1/6/2022   Jan  Delivered   Nalli  ...     L   1      INR    1671   \n",
      "30963   1/6/2022   Jan  Delivered  Amazon  ...  Free   1      INR    1698   \n",
      "\n",
      "          Ship-City     ship-state ship-postal-code ship-country    B2B  \\\n",
      "369       Bengaluru      Karnataka           560036           IN  False   \n",
      "512       Bengaluru      Karnataka           560080           IN  False   \n",
      "1105      Panchkula        Haryana           134113           IN  False   \n",
      "1205    Bhubaneswar         Odisha           751003           IN  False   \n",
      "1255        Chennai     Tamil Nadu           600099           IN  False   \n",
      "...             ...            ...              ...          ...    ...   \n",
      "30322        Sasvad    Maharashtra           412301           IN  False   \n",
      "30403        Chunar  Uttar Pradesh           231304           IN  False   \n",
      "30415     Hyderabad      Telangana           500073           IN  False   \n",
      "30493  Mahendragarh        Haryana           123029           IN  False   \n",
      "30963       Cuttack         Odisha           754032           IN  False   \n",
      "\n",
      "           z-score  \n",
      "369    1520.460461  \n",
      "512    1520.460461  \n",
      "1105   1553.460461  \n",
      "1205   1692.460461  \n",
      "1255   1695.460461  \n",
      "...            ...  \n",
      "30322  1520.460461  \n",
      "30403  1520.460461  \n",
      "30415  2013.460461  \n",
      "30493  1668.460461  \n",
      "30963  1695.460461  \n",
      "\n",
      "[198 rows x 22 columns]\n"
     ]
    }
   ],
   "source": [
    "outliers = df[z_scores.abs() > 3]\n",
    "print(outliers)"
   ]
  },
  {
   "cell_type": "code",
   "execution_count": 30,
   "id": "315992b7-3e8c-4d59-a650-b1dde9b27ac8",
   "metadata": {
    "scrolled": true
   },
   "outputs": [
    {
     "name": "stdout",
     "output_type": "stream",
     "text": [
      "[1523 1556 1695 1698 1499 2244 1613 1576 1650 3036 2442 1671 1593 1551\n",
      " 2397 1496 1691 1648 1836 2040 1740 2250 1649 1998 2598 1574 1549 1629\n",
      " 1764 1729 1798 1542 1999 1572 1559 2175 2796 2894 1670 2372 1990 2299\n",
      " 1893 1797 1776 1704 2066 1518 1934 1916 2860 2058 2068 1603 1504 1596\n",
      " 2016]\n"
     ]
    }
   ],
   "source": [
    "print(outliers['Amount'].unique())"
   ]
  },
  {
   "cell_type": "code",
   "execution_count": 31,
   "id": "8aa8d49a-33c5-4f3b-a785-538eb6c3fd01",
   "metadata": {
    "scrolled": true
   },
   "outputs": [
    {
     "name": "stdout",
     "output_type": "stream",
     "text": [
      "57\n"
     ]
    }
   ],
   "source": [
    "print(outliers['Amount'].nunique())"
   ]
  },
  {
   "cell_type": "code",
   "execution_count": 33,
   "id": "cb1c98b9-81e9-4068-b815-e7cb466ac0f0",
   "metadata": {},
   "outputs": [
    {
     "name": "stdout",
     "output_type": "stream",
     "text": [
      "Skewness: 1.0529040086651469\n",
      "positively skewed\n"
     ]
    }
   ],
   "source": [
    "skewness = data.skew()\n",
    "print(f\"Skewness: {skewness}\")\n",
    "\n",
    "if skewness > 0:\n",
    "    print(\"positively skewed\")\n",
    "elif skewness < 0:\n",
    "    print(\"negatively skewed\")\n",
    "else:\n",
    "    print(\"Data is symmetric.\")\n"
   ]
  },
  {
   "cell_type": "code",
   "execution_count": 36,
   "id": "a898eb67-ec9f-4abd-9784-598469aacf3a",
   "metadata": {},
   "outputs": [
    {
     "name": "stdout",
     "output_type": "stream",
     "text": [
      "Kurtosis: 1.768675937864248\n",
      "platykurtic\n"
     ]
    }
   ],
   "source": [
    "# Calculate kurtosis\n",
    "kurtosis = data.kurt()\n",
    "print(f\"Kurtosis: {kurtosis}\")\n",
    "\n",
    "# Interpretation\n",
    "if kurtosis > 3:\n",
    "    print(\"leptokurtic\")\n",
    "elif kurtosis < 3:\n",
    "    print(\"platykurtic\")\n",
    "else:\n",
    "    print(\"normal distribution\")\n"
   ]
  },
  {
   "cell_type": "code",
   "execution_count": null,
   "id": "a4d21c4b-8ee1-4be1-8af6-d947af340823",
   "metadata": {},
   "outputs": [],
   "source": []
  }
 ],
 "metadata": {
  "kernelspec": {
   "display_name": "Python 3 (ipykernel)",
   "language": "python",
   "name": "python3"
  },
  "language_info": {
   "codemirror_mode": {
    "name": "ipython",
    "version": 3
   },
   "file_extension": ".py",
   "mimetype": "text/x-python",
   "name": "python",
   "nbconvert_exporter": "python",
   "pygments_lexer": "ipython3",
   "version": "3.12.7"
  }
 },
 "nbformat": 4,
 "nbformat_minor": 5
}
