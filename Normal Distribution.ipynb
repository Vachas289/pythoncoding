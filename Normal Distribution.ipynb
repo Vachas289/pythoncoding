{
 "cells": [
  {
   "cell_type": "code",
   "execution_count": 3,
   "id": "535a8080-6b75-4c09-9434-9985c9cbf580",
   "metadata": {},
   "outputs": [
    {
     "data": {
      "text/plain": [
       "'Let’s say the height of adult men in a population follows a normal distribution with:\\nMean (𝜇) = 70 inches.\\nStandard deviation (𝜎) = 3 inches.'"
      ]
     },
     "execution_count": 3,
     "metadata": {},
     "output_type": "execute_result"
    }
   ],
   "source": [
    "\"\"\"Let’s say the height of adult men in a population follows a normal distribution with:\n",
    "Mean (𝜇) = 70 inches.\n",
    "Standard deviation (𝜎) = 3 inches.\"\"\""
   ]
  },
  {
   "cell_type": "code",
   "execution_count": 2,
   "id": "82e0b69b-a46b-4599-b89b-cab3b3c3ac14",
   "metadata": {},
   "outputs": [
    {
     "name": "stdout",
     "output_type": "stream",
     "text": [
      "0.0807\n",
      "0.1587\n"
     ]
    }
   ],
   "source": [
    "import numpy as np\n",
    "from scipy.stats import norm\n",
    "\n",
    "mean = 70  \n",
    "std = 3    \n",
    "x = 67 \n",
    "\n",
    "pdf = norm.pdf(x, loc=mean, scale=std)\n",
    "cdf = norm.cdf(x, loc=mean, scale=std)\n",
    "\n",
    "print(f\"{pdf:.4f}\")\n",
    "print(f\"{cdf:.4f}\")"
   ]
  },
  {
   "cell_type": "code",
   "execution_count": null,
   "id": "b32c3bb0-52cc-4bff-bc78-cdc607be0657",
   "metadata": {},
   "outputs": [],
   "source": []
  }
 ],
 "metadata": {
  "kernelspec": {
   "display_name": "Python 3 (ipykernel)",
   "language": "python",
   "name": "python3"
  },
  "language_info": {
   "codemirror_mode": {
    "name": "ipython",
    "version": 3
   },
   "file_extension": ".py",
   "mimetype": "text/x-python",
   "name": "python",
   "nbconvert_exporter": "python",
   "pygments_lexer": "ipython3",
   "version": "3.12.7"
  }
 },
 "nbformat": 4,
 "nbformat_minor": 5
}
