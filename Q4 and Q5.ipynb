{
 "cells": [
  {
   "cell_type": "code",
   "execution_count": 7,
   "id": "caded872-3e88-47ad-9b8f-b6119257c21e",
   "metadata": {},
   "outputs": [
    {
     "name": "stdout",
     "output_type": "stream",
     "text": [
      "Pearson Correlation coefficient: 0.03651318302517726\n",
      "p-value: 0.32991946810383543\n",
      "The correlation is not statistically significant.\n"
     ]
    }
   ],
   "source": [
    "import pandas as pd\n",
    "from scipy.stats import pearsonr\n",
    "\n",
    "file_path = \"C:\\\\Users\\\\al6436\\\\Desktop\\\\school_data.xlsx\"\n",
    "xls = pd.ExcelFile(file_path)\n",
    "\n",
    "school_information_df = pd.read_excel(xls, 'School_Information')\n",
    "student_information_df = pd.read_excel(xls, 'Student_Information')\n",
    "student_demographics_df = pd.read_excel(xls, 'Student_Demographics')\n",
    "\n",
    "data = pd.merge(student_information_df, student_demographics_df, on='Student_ID')\n",
    "data = pd.merge(data, school_information_df, on=['School_ID', 'Class'])\n",
    "\n",
    "# filter only indian students\n",
    "indian_students = data[data['Native'] == 'Indian']\n",
    "\n",
    "correlation, p_value = pearsonr(indian_students['Monthly_Family_Income'], indian_students['School_ID'])\n",
    "\n",
    "print(f'Pearson Correlation coefficient: {correlation}')\n",
    "print(f'p-value: {p_value}')\n",
    "\n",
    "if p_value < 0.05:\n",
    "    print('The correlation is statistically significant.')\n",
    "else:\n",
    "    print('The correlation is not statistically significant.')\n"
   ]
  },
  {
   "cell_type": "markdown",
   "id": "39602583-a00b-4877-a24f-606e94fe834e",
   "metadata": {},
   "source": [
    "Null Hypothesis (H₀): There is no significant difference in family monthly income across different schools for Indian students.\n",
    "\n",
    "Alternative Hypothesis (H₁): There is a significant difference in family monthly income across different schools for Indian students."
   ]
  },
  {
   "cell_type": "code",
   "execution_count": 8,
   "id": "20a5c51b-9f3b-4c9a-af33-2d388c501377",
   "metadata": {},
   "outputs": [
    {
     "name": "stdout",
     "output_type": "stream",
     "text": [
      "F-statistic: 0.5565923669655247, p-value: 0.5734083841430861\n",
      "Fail to Reject Null Hypothesis: There is no significant difference in family monthly income across different schools for Indian students.\n"
     ]
    }
   ],
   "source": [
    "from scipy.stats import f_oneway\n",
    "\n",
    "data = pd.merge(student_information_df, student_demographics_df, on='Student_ID')\n",
    "data = pd.merge(data, school_information_df, on=['School_ID', 'Class'])\n",
    "indian_students = data[data['Native'] == 'Indian']\n",
    "\n",
    "grouped_data = [group['Monthly_Family_Income'].values for name, group in indian_students.groupby('School_ID')]\n",
    "f_statistic, p_value = f_oneway(*grouped_data)\n",
    "\n",
    "print(f'F-statistic: {f_statistic}, p-value: {p_value}')\n",
    "\n",
    "if p_value < 0.05:\n",
    "    print('Reject Null Hypothesis: There is a significant difference in family monthly income across different schools for Indian students.')\n",
    "else:\n",
    "    print('Fail to Reject Null Hypothesis: There is no significant difference in family monthly income across different schools for Indian students.')\n"
   ]
  },
  {
   "cell_type": "code",
   "execution_count": 12,
   "id": "539cfb0c-5801-4a4d-91b9-de224504186f",
   "metadata": {},
   "outputs": [
    {
     "name": "stdout",
     "output_type": "stream",
     "text": [
      "Probability of foreign student scoring more than 70% marks at Montfort school: 52.17%\n"
     ]
    }
   ],
   "source": [
    "data = pd.merge(student_information_df, student_demographics_df, on='Student_ID')\n",
    "data = pd.merge(data, school_information_df, on=['School_ID', 'Class'])\n",
    "\n",
    "montfort_foreign_students = data[(data['Native'] == 'Foreigner') & (data['School_Name'] == 'Montfort')]\n",
    "\n",
    "high_scorers = montfort_foreign_students[montfort_foreign_students['Overall_Marks'] > 350]\n",
    "\n",
    "probability = len(high_scorers) / len(montfort_foreign_students)*100\n",
    "print(f'Probability of foreign student scoring more than 70% marks at Montfort school: {probability:.2f}%')"
   ]
  },
  {
   "cell_type": "code",
   "execution_count": null,
   "id": "71ac4ff6-3d04-466b-a568-2d35a9aaea73",
   "metadata": {},
   "outputs": [],
   "source": []
  }
 ],
 "metadata": {
  "kernelspec": {
   "display_name": "Python 3 (ipykernel)",
   "language": "python",
   "name": "python3"
  },
  "language_info": {
   "codemirror_mode": {
    "name": "ipython",
    "version": 3
   },
   "file_extension": ".py",
   "mimetype": "text/x-python",
   "name": "python",
   "nbconvert_exporter": "python",
   "pygments_lexer": "ipython3",
   "version": "3.12.7"
  }
 },
 "nbformat": 4,
 "nbformat_minor": 5
}
