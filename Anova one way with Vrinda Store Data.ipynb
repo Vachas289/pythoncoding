{
 "cells": [
  {
   "cell_type": "code",
   "execution_count": 1,
   "id": "9b1b4628-24d2-45bc-8c24-8b12100f5302",
   "metadata": {},
   "outputs": [],
   "source": [
    "import pandas as pd\n",
    "import numpy as np\n",
    "from scipy import stats"
   ]
  },
  {
   "cell_type": "code",
   "execution_count": 2,
   "id": "b3ffe046-87f8-486d-803c-08e78b006e50",
   "metadata": {},
   "outputs": [],
   "source": [
    "df= pd.read_csv(\"C:/Users/al6436/Desktop/Vrinda Store Data/VrindaStore.csv\")"
   ]
  },
  {
   "cell_type": "code",
   "execution_count": 6,
   "id": "eed003db-42b6-4b40-83db-894c95cc8e31",
   "metadata": {},
   "outputs": [
    {
     "name": "stdout",
     "output_type": "stream",
     "text": [
      "['Myntra' 'Ajio' 'Amazon' 'Flipkart' 'Meesho' 'Others' 'Nalli']\n"
     ]
    }
   ],
   "source": [
    "print(df['Channel'].unique())"
   ]
  },
  {
   "cell_type": "code",
   "execution_count": 7,
   "id": "501de4e8-d7d2-4deb-8b8d-36a214e10c22",
   "metadata": {},
   "outputs": [
    {
     "name": "stdout",
     "output_type": "stream",
     "text": [
      "[0         376\n",
      "2         453\n",
      "4         544\n",
      "9         771\n",
      "11        399\n",
      "         ... \n",
      "31034     721\n",
      "31037     735\n",
      "31039     385\n",
      "31041    1333\n",
      "31043     939\n",
      "Name: Amount, Length: 7254, dtype: int64, 1        1449\n",
      "23        788\n",
      "79        595\n",
      "124       692\n",
      "125      1099\n",
      "         ... \n",
      "30972     518\n",
      "30975    1168\n",
      "30987     948\n",
      "30994     885\n",
      "31040     495\n",
      "Name: Amount, Length: 1931, dtype: int64, 3         729\n",
      "8         385\n",
      "10        517\n",
      "12        786\n",
      "14        967\n",
      "         ... \n",
      "31031     476\n",
      "31032     859\n",
      "31035     376\n",
      "31044    1115\n",
      "31045     399\n",
      "Name: Amount, Length: 11016, dtype: int64, 5        735\n",
      "26       484\n",
      "27       563\n",
      "28       735\n",
      "35       650\n",
      "        ... \n",
      "31023    696\n",
      "31024    399\n",
      "31038    292\n",
      "31042    565\n",
      "31046    791\n",
      "Name: Amount, Length: 6703, dtype: int64, 6         735\n",
      "16       1115\n",
      "43        648\n",
      "55        507\n",
      "59        633\n",
      "         ... \n",
      "30930     499\n",
      "30952     721\n",
      "30995     626\n",
      "30998     799\n",
      "31011     531\n",
      "Name: Amount, Length: 1398, dtype: int64, 7         435\n",
      "17        563\n",
      "25        533\n",
      "32        301\n",
      "49        558\n",
      "         ... \n",
      "30848     517\n",
      "30890     467\n",
      "30929    1129\n",
      "30943     413\n",
      "30986     625\n",
      "Name: Amount, Length: 1261, dtype: int64, 15        523\n",
      "20       1164\n",
      "47        487\n",
      "74        476\n",
      "111       493\n",
      "         ... \n",
      "30949     625\n",
      "30981     626\n",
      "30992     540\n",
      "31028     825\n",
      "31036     480\n",
      "Name: Amount, Length: 1484, dtype: int64]\n",
      "F-statistic: 1.4876257214904203\n",
      "P-value: 0.177837506498073\n"
     ]
    }
   ],
   "source": [
    "grouped_data = [df[df['Channel'] == channel]['Amount'] for channel in df['Channel'].unique()]\n",
    "print(grouped_data)\n",
    "f_statistic, p_value = stats.f_oneway(*grouped_data)\n",
    "print(f\"F-statistic: {f_statistic}\")\n",
    "print(f\"P-value: {p_value}\")"
   ]
  },
  {
   "cell_type": "code",
   "execution_count": null,
   "id": "6c00fea8-b8a7-41dc-96e3-57a033eeee0f",
   "metadata": {},
   "outputs": [],
   "source": []
  }
 ],
 "metadata": {
  "kernelspec": {
   "display_name": "Python 3 (ipykernel)",
   "language": "python",
   "name": "python3"
  },
  "language_info": {
   "codemirror_mode": {
    "name": "ipython",
    "version": 3
   },
   "file_extension": ".py",
   "mimetype": "text/x-python",
   "name": "python",
   "nbconvert_exporter": "python",
   "pygments_lexer": "ipython3",
   "version": "3.12.7"
  }
 },
 "nbformat": 4,
 "nbformat_minor": 5
}
