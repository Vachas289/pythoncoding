{
 "cells": [
  {
   "cell_type": "code",
   "execution_count": 1,
   "id": "4c9332a7-11d9-4ee0-b952-475913e6aa28",
   "metadata": {},
   "outputs": [],
   "source": [
    "import numpy as np\n",
    "from scipy import stats"
   ]
  },
  {
   "cell_type": "code",
   "execution_count": 8,
   "id": "a118cfca-f5d4-427d-9a58-49173178b8ef",
   "metadata": {},
   "outputs": [
    {
     "data": {
      "text/plain": [
       "'\\nImagine a pharmaceutical company has developed a new drug that they believe can effectively lower blood pressure in patients with hypertension. \\nBefore bringing the drug to market, they need to conduct a study to assess its impact on blood pressure.\\n\\nData:\\n\\nBefore Treatment: 120, 122, 118, 130, 125, 128, 115, 121, 123, 119\\nAfter Treatment: 115, 120, 112, 128, 122, 125, 110, 117, 119, 114\\n'"
      ]
     },
     "execution_count": 8,
     "metadata": {},
     "output_type": "execute_result"
    }
   ],
   "source": [
    "\"\"\"\n",
    "Imagine a pharmaceutical company has developed a new drug that they believe can effectively lower blood pressure in patients with hypertension. \n",
    "Before bringing the drug to market, they need to conduct a study to assess its impact on blood pressure.\n",
    "\n",
    "Data:\n",
    "\n",
    "Before Treatment: 120, 122, 118, 130, 125, 128, 115, 121, 123, 119\n",
    "After Treatment: 115, 120, 112, 128, 122, 125, 110, 117, 119, 114\n",
    "\"\"\""
   ]
  },
  {
   "cell_type": "code",
   "execution_count": 5,
   "id": "ad4f41e6-80df-474d-b57c-2a868e2c0a0f",
   "metadata": {},
   "outputs": [
    {
     "name": "stdout",
     "output_type": "stream",
     "text": [
      "T-statistics : -9.0\n",
      "P-value : 8.538051223166285e-06\n",
      "Decision: reject the null hypothesis at alfa=0.05.\n",
      "Conclusion: The average blood pressure before and after treatment with the new drug is different.\n"
     ]
    }
   ],
   "source": [
    "before_treatment = np.array([120,122,118,130,125,128,115,121,123,119])\n",
    "after_treatment = np.array([115,120,112,128,122,125,110,117,119,114])\n",
    "\"s1\"\n",
    "null_hypothesis= \"there will be no effect in blood pressure\"\n",
    "alternative_hypothesis= \"there will be an effect in blood pressure\"\n",
    "\"s2\"\n",
    "alfa= 0.05\n",
    "\"s3\"\n",
    "t_statistic, p_value = stats.ttest_rel(after_treatment, before_treatment)\n",
    "\n",
    "if p_value <= alfa:\n",
    "    decision = \"reject\"\n",
    "else :\n",
    "    decision = \"fail to reject\"\n",
    "    \n",
    "if decision == \"reject\":\n",
    "    conclusion = \"The average blood pressure before and after treatment with the new drug is different.\"\n",
    "else:\n",
    "    conclusion = \"The average blood pressure before and after treatment with the new drug is not different.\"\n",
    "\n",
    "print(\"T-statistics :\", t_statistic)\n",
    "print(\"P-value :\", p_value)\n",
    "print(f\"Decision: {decision} the null hypothesis at alfa={alfa}.\")\n",
    "print(\"Conclusion:\", conclusion)\n",
    "    \n",
    "\n",
    "\n"
   ]
  },
  {
   "cell_type": "code",
   "execution_count": null,
   "id": "03f53706-11e5-43d6-be51-dfff969cb65a",
   "metadata": {},
   "outputs": [],
   "source": []
  }
 ],
 "metadata": {
  "kernelspec": {
   "display_name": "Python 3 (ipykernel)",
   "language": "python",
   "name": "python3"
  },
  "language_info": {
   "codemirror_mode": {
    "name": "ipython",
    "version": 3
   },
   "file_extension": ".py",
   "mimetype": "text/x-python",
   "name": "python",
   "nbconvert_exporter": "python",
   "pygments_lexer": "ipython3",
   "version": "3.12.7"
  }
 },
 "nbformat": 4,
 "nbformat_minor": 5
}
