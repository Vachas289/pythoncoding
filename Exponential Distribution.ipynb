{
 "cells": [
  {
   "cell_type": "code",
   "execution_count": 17,
   "id": "a226ce0d-298a-44db-8dea-12820df65aa2",
   "metadata": {},
   "outputs": [
    {
     "data": {
      "text/plain": [
       "\"Let's say you are modeling the time between arrivals of customers at a bank. \\nIf, on average, 10 customers arrive per hour, this means that the rate parameter \\n𝜆\\n=\\n10\\nλ=10 (because 10 customers arrive per hour).\\n\\nNow, you want to know:\\n\\nWhat is the probability that the time until the next customer arrives is less than 5 minutes?\""
      ]
     },
     "execution_count": 17,
     "metadata": {},
     "output_type": "execute_result"
    }
   ],
   "source": [
    "\"\"\"Let's say you are modeling the time between arrivals of customers at a bank. \n",
    "If, on average, 10 customers arrive per hour, this means that the rate parameter \n",
    "𝜆\n",
    "=\n",
    "10\n",
    "λ=10 (because 10 customers arrive per hour).\n",
    "\n",
    "Now, you want to know:\n",
    "\n",
    "What is the probability that the time until the next customer arrives is less than 5 minutes?\"\"\""
   ]
  },
  {
   "cell_type": "code",
   "execution_count": 12,
   "id": "c10f3aa1-89f2-4554-9bc2-13e8a9dff998",
   "metadata": {},
   "outputs": [
    {
     "name": "stdout",
     "output_type": "stream",
     "text": [
      " 0.0724\n",
      " 0.5654\n"
     ]
    }
   ],
   "source": [
    "import numpy as np\n",
    "from scipy.stats import expon\n",
    "\n",
    "lambda_parameter = 1/6\n",
    "x = 5 \n",
    "\n",
    "pdf= expon.pdf(x,scale= 1/lambda_parameter)\n",
    "print(f\"{pdf: .4f}\")\n",
    "cdf= expon.cdf(x,scale= 1/lambda_parameter)\n",
    "print(f\"{cdf: .4f}\")"
   ]
  },
  {
   "cell_type": "code",
   "execution_count": null,
   "id": "2d5b80f1-c828-4063-be31-c656acd9395e",
   "metadata": {},
   "outputs": [],
   "source": []
  }
 ],
 "metadata": {
  "kernelspec": {
   "display_name": "Python 3 (ipykernel)",
   "language": "python",
   "name": "python3"
  },
  "language_info": {
   "codemirror_mode": {
    "name": "ipython",
    "version": 3
   },
   "file_extension": ".py",
   "mimetype": "text/x-python",
   "name": "python",
   "nbconvert_exporter": "python",
   "pygments_lexer": "ipython3",
   "version": "3.12.7"
  }
 },
 "nbformat": 4,
 "nbformat_minor": 5
}
