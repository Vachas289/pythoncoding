{
 "cells": [
  {
   "cell_type": "code",
   "execution_count": 4,
   "id": "43f112c2-ff8e-4f9b-90b5-fe8d59564daa",
   "metadata": {},
   "outputs": [],
   "source": [
    "#calculate the probability of getting a success (head) in a biased coin toss."
   ]
  },
  {
   "cell_type": "code",
   "execution_count": 3,
   "id": "47b099c7-3655-4520-b2db-840bb29ec66b",
   "metadata": {},
   "outputs": [
    {
     "name": "stdout",
     "output_type": "stream",
     "text": [
      "0.7000\n",
      "0.3000\n",
      "0.3000\n",
      "1.0000\n",
      "0.7\n",
      "0.21000000000000002\n",
      "0.45825756949558405\n"
     ]
    }
   ],
   "source": [
    "from scipy.stats import bernoulli\n",
    "\n",
    "p_s= 0.7\n",
    "\n",
    "bd = bernoulli(p_s)\n",
    "\n",
    "pdf_success = bd.pmf(1)\n",
    "print(f\"{pdf_success:.4f}\")\n",
    "\n",
    "pdf_failure = bd.pmf(0)\n",
    "print(f\"{pdf_failure:.4f}\")\n",
    "\n",
    "cdf_at_0 = bd.cdf(0)\n",
    "print(f\"{cdf_at_0:.4f}\")\n",
    "\n",
    "cdf_at_1 = bd.cdf(1)\n",
    "print(f\"{cdf_at_1:.4f}\")\n",
    "\n",
    "mean=bd.mean()\n",
    "var=bd.var()\n",
    "std=bd.std()\n",
    "print(mean)\n",
    "print(var)\n",
    "print(std)\n"
   ]
  },
  {
   "cell_type": "code",
   "execution_count": null,
   "id": "cda86b63-cd2b-407a-a2aa-b81d2a86db81",
   "metadata": {},
   "outputs": [],
   "source": []
  }
 ],
 "metadata": {
  "kernelspec": {
   "display_name": "Python 3 (ipykernel)",
   "language": "python",
   "name": "python3"
  },
  "language_info": {
   "codemirror_mode": {
    "name": "ipython",
    "version": 3
   },
   "file_extension": ".py",
   "mimetype": "text/x-python",
   "name": "python",
   "nbconvert_exporter": "python",
   "pygments_lexer": "ipython3",
   "version": "3.12.7"
  }
 },
 "nbformat": 4,
 "nbformat_minor": 5
}
