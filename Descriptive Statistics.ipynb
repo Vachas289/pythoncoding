{
 "cells": [
  {
   "cell_type": "code",
   "execution_count": 3,
   "id": "44f127b9-86f8-4efb-b829-685d5eaf871f",
   "metadata": {},
   "outputs": [],
   "source": [
    "import numpy as np\n",
    "import pandas as pd"
   ]
  },
  {
   "cell_type": "code",
   "execution_count": 4,
   "id": "717dcf1c-5742-45a0-98d9-6fd647e96025",
   "metadata": {},
   "outputs": [
    {
     "name": "stdout",
     "output_type": "stream",
     "text": [
      "mean= 5.5\n"
     ]
    }
   ],
   "source": [
    "data= [1,2,3,4,5,6,7,8,9,10]\n",
    "mean = np.mean(data)\n",
    "print(f\"mean= {mean}\")"
   ]
  },
  {
   "cell_type": "code",
   "execution_count": 5,
   "id": "b7ccc962-cf58-4999-9672-3b381d9123f2",
   "metadata": {},
   "outputs": [
    {
     "name": "stdout",
     "output_type": "stream",
     "text": [
      "median = 5.5\n"
     ]
    }
   ],
   "source": [
    "median = np.median(data)\n",
    "print(f\"median = {median}\")"
   ]
  },
  {
   "cell_type": "code",
   "execution_count": 10,
   "id": "74b3a2d7-85d9-4235-a0d5-602d03f5e69d",
   "metadata": {},
   "outputs": [
    {
     "name": "stdout",
     "output_type": "stream",
     "text": [
      "mode=1\n"
     ]
    }
   ],
   "source": [
    "mode= pd.Series(data).mode()[0]\n",
    "print(f\"mode={mode}\")"
   ]
  },
  {
   "cell_type": "code",
   "execution_count": 11,
   "id": "3c154bf6-5bc7-4f93-aa5b-18eb97c21b37",
   "metadata": {},
   "outputs": [
    {
     "name": "stdout",
     "output_type": "stream",
     "text": [
      "std=2.8722813232690143\n"
     ]
    }
   ],
   "source": [
    "std= np.std(data)\n",
    "print(f\"std={std}\")"
   ]
  },
  {
   "cell_type": "code",
   "execution_count": 12,
   "id": "bbc184aa-a533-4368-8c70-d955f2023af8",
   "metadata": {},
   "outputs": [
    {
     "name": "stdout",
     "output_type": "stream",
     "text": [
      "var=8.25\n"
     ]
    }
   ],
   "source": [
    "var= np.var(data)\n",
    "print(f\"var={var}\")"
   ]
  },
  {
   "cell_type": "code",
   "execution_count": 6,
   "id": "2d65ea7c-ab6b-457c-b26b-e34221002669",
   "metadata": {},
   "outputs": [
    {
     "name": "stdout",
     "output_type": "stream",
     "text": [
      "Skewness: 0.0, Kurtosis: -1.2242424242424244\n"
     ]
    }
   ],
   "source": [
    "from scipy.stats import skew, kurtosis\n",
    "skewness = skew(data)\n",
    "kurt = kurtosis(data)\n",
    "print(f\"Skewness: {skewness}, Kurtosis: {kurt}\")"
   ]
  },
  {
   "cell_type": "code",
   "execution_count": null,
   "id": "42755962-75d9-4813-a97f-6f529c5e6304",
   "metadata": {},
   "outputs": [],
   "source": []
  }
 ],
 "metadata": {
  "kernelspec": {
   "display_name": "Python 3 (ipykernel)",
   "language": "python",
   "name": "python3"
  },
  "language_info": {
   "codemirror_mode": {
    "name": "ipython",
    "version": 3
   },
   "file_extension": ".py",
   "mimetype": "text/x-python",
   "name": "python",
   "nbconvert_exporter": "python",
   "pygments_lexer": "ipython3",
   "version": "3.12.7"
  }
 },
 "nbformat": 4,
 "nbformat_minor": 5
}
