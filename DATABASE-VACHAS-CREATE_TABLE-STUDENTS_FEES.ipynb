{
 "cells": [
  {
   "cell_type": "code",
   "execution_count": 5,
   "id": "4fdf3f34-edef-4e5c-8405-f2c2da367b1c",
   "metadata": {},
   "outputs": [],
   "source": [
    "import mysql.connector\n",
    "import pandas as pd\n",
    "db_connection = mysql.connector.connect(\n",
    "    host=\"localhost\",       \n",
    "    user=\"root\",              \n",
    "    password=\"Deadman@14\", \n",
    "    database=\"Vachas\"   \n",
    ")"
   ]
  },
  {
   "cell_type": "code",
   "execution_count": 6,
   "id": "95b60be8-c881-43b7-a7ff-3a4b861dfcae",
   "metadata": {},
   "outputs": [],
   "source": [
    "cursor = db_connection.cursor()\n"
   ]
  },
  {
   "cell_type": "code",
   "execution_count": 7,
   "id": "b635ca17-5772-4ce2-9fc0-411f34eabfa6",
   "metadata": {},
   "outputs": [
    {
     "name": "stdout",
     "output_type": "stream",
     "text": [
      "Connected to MySQL: True\n"
     ]
    }
   ],
   "source": [
    "print(\"Connected to MySQL:\", db_connection.is_connected())"
   ]
  },
  {
   "cell_type": "code",
   "execution_count": 15,
   "id": "769b398f-e418-4758-aa38-756e7cd2bd32",
   "metadata": {},
   "outputs": [
    {
     "name": "stdout",
     "output_type": "stream",
     "text": [
      "table STUDENTS IS CREATED SUCESSFULLY\n"
     ]
    }
   ],
   "source": [
    "create_table = \"\"\"CREATE TABLE IF NOT EXISTS students (\n",
    "    id INT AUTO_INCREMENT PRIMARY KEY,\n",
    "    name VARCHAR(100) NOT NULL,\n",
    "    age INT,\n",
    "    course VARCHAR(100)\n",
    ");\"\"\"\n",
    "cursor.execute(create_table)\n",
    "db_connection.commit()\n",
    "print(\"TABLE STUDENTS IS CREATED SUCESSFULLY\")\n"
   ]
  },
  {
   "cell_type": "code",
   "execution_count": 17,
   "id": "f48b425b-6eba-4426-a741-ce3940939279",
   "metadata": {},
   "outputs": [
    {
     "name": "stdout",
     "output_type": "stream",
     "text": [
      "TABLE FEES IS CREATED SUCESSFULLY\n"
     ]
    }
   ],
   "source": [
    "create_table = \"\"\"\n",
    "CREATE TABLE IF NOT EXISTS Fees (\n",
    "    Rollno INT AUTO_INCREMENT PRIMARY KEY,  # Removed the period\n",
    "    name VARCHAR(100) NOT NULL,\n",
    "    amount INT,\n",
    "    course VARCHAR(100),\n",
    "    location VARCHAR(100)\n",
    ");\"\"\"\n",
    "cursor.execute(create_table)\n",
    "db_connection.commit()\n",
    "print(\"TABLE FEES IS CREATED SUCESSFULLY\")"
   ]
  },
  {
   "cell_type": "code",
   "execution_count": 18,
   "id": "595f9310-6cf9-429e-9191-bcde77c636e4",
   "metadata": {},
   "outputs": [
    {
     "name": "stdout",
     "output_type": "stream",
     "text": [
      "MySQL connection is closed.\n"
     ]
    }
   ],
   "source": [
    "cursor.close()\n",
    "db_connection.close()\n",
    "print(\"MySQL connection is closed.\")"
   ]
  },
  {
   "cell_type": "code",
   "execution_count": null,
   "id": "b75fb6fa-da48-4a4d-bb23-601c9c2086ee",
   "metadata": {},
   "outputs": [],
   "source": []
  }
 ],
 "metadata": {
  "kernelspec": {
   "display_name": "Python 3 (ipykernel)",
   "language": "python",
   "name": "python3"
  },
  "language_info": {
   "codemirror_mode": {
    "name": "ipython",
    "version": 3
   },
   "file_extension": ".py",
   "mimetype": "text/x-python",
   "name": "python",
   "nbconvert_exporter": "python",
   "pygments_lexer": "ipython3",
   "version": "3.12.7"
  }
 },
 "nbformat": 4,
 "nbformat_minor": 5
}
