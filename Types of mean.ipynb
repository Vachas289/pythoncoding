{
 "cells": [
  {
   "cell_type": "code",
   "execution_count": 2,
   "id": "eaca4300-b2c0-46bf-aa79-7593dfe45494",
   "metadata": {},
   "outputs": [],
   "source": [
    "import numpy as np\n",
    "import pandas as pd\n",
    "from scipy import stats\n",
    "df= pd.read_csv(\"C:/Users/al6436/Downloads/vs.csv\")"
   ]
  },
  {
   "cell_type": "code",
   "execution_count": 8,
   "id": "35de4b1e-cb1c-4882-8c02-c02e08b20197",
   "metadata": {},
   "outputs": [
    {
     "name": "stdout",
     "output_type": "stream",
     "text": [
      "654.4510245984138\n"
     ]
    }
   ],
   "source": [
    "# trimmed mean\n",
    "data = df['Amount']\n",
    "trimmed_mean = stats.trim_mean(data,0.1)\n",
    "print(trimmed_mean)"
   ]
  },
  {
   "cell_type": "code",
   "execution_count": 56,
   "id": "617447d2-8948-4ec2-a9cf-ad7555ed5da0",
   "metadata": {},
   "outputs": [
    {
     "name": "stdout",
     "output_type": "stream",
     "text": [
      "        Category  Sum of Amount    Weight\n",
      "0         Blouse         140888  0.006653\n",
      "1         Bottom          27804  0.001313\n",
      "2   Ethnic Dress         195256  0.009220\n",
      "3          Kurta        4959377  0.234194\n",
      "4          Saree        1010471  0.047717\n",
      "5            Set       10507546  0.496192\n",
      "6            Top        1186199  0.056015\n",
      "7  Western Dress        3148836  0.148696\n",
      "weighted_mean 6960868.63352872\n"
     ]
    }
   ],
   "source": [
    "# Weight Mean\n",
    "data = {\n",
    "    'Category': ['Blouse', 'Bottom', 'Ethnic Dress', 'Kurta', 'Saree', 'Set', 'Top', 'Western Dress'],\n",
    "    'Sum of Amount': [140888, 27804, 195256, 4959377, 1010471, 10507546, 1186199, 3148836],\n",
    "}\n",
    "data1 = pd.DataFrame(data)\n",
    "data1['Weight'] = data1['Sum of Amount'] / data1['Sum of Amount'].sum()\n",
    "print(data1)\n",
    "weighted_mean = (data1['Sum of Amount'] * data1['Weight']).sum()\n",
    "print(\"weighted_mean\", weighted_mean)"
   ]
  },
  {
   "cell_type": "code",
   "execution_count": 55,
   "id": "53634ece-71d3-4e28-a304-07a0cbcdba5d",
   "metadata": {},
   "outputs": [
    {
     "name": "stdout",
     "output_type": "stream",
     "text": [
      "geometric_mean 633.9555098208123\n"
     ]
    }
   ],
   "source": [
    "# Geometric Mean\n",
    "data = pd.DataFrame({'Month': df['Month'], 'Amount': df['Amount']})\n",
    "geometric_mean = stats.mstats.gmean(data['Amount'])\n",
    "print(\"geometric_mean\", geometric_mean)"
   ]
  },
  {
   "cell_type": "code",
   "execution_count": 54,
   "id": "44e74ccf-6c36-44cc-875e-537aedc797f6",
   "metadata": {},
   "outputs": [
    {
     "name": "stdout",
     "output_type": "stream",
     "text": [
      "Month\n",
      "Apr    592.905058\n",
      "Aug    597.933040\n",
      "Dec    590.207283\n",
      "Feb    589.088523\n",
      "Jan    583.452993\n",
      "Jul    593.848584\n",
      "Jun    579.860087\n",
      "Mar    591.958889\n",
      "May    592.151621\n",
      "Nov    585.801329\n",
      "Oct    594.132780\n",
      "Sep    587.939850\n",
      "Name: Amount, dtype: float64\n"
     ]
    }
   ],
   "source": [
    "# Harmonic Mean \n",
    "monthly_harmonic_mean = df.groupby('Month')['Amount'].apply(stats.mstats.hmean)\n",
    "print(monthly_harmonic_mean)\n"
   ]
  },
  {
   "cell_type": "code",
   "execution_count": 71,
   "id": "2b9bcd32-d36e-42d4-a24e-5f217e6a5f1c",
   "metadata": {},
   "outputs": [
    {
     "name": "stdout",
     "output_type": "stream",
     "text": [
      "0         376.0\n",
      "1        1449.0\n",
      "2         453.0\n",
      "3         729.0\n",
      "4         544.0\n",
      "          ...  \n",
      "31042     565.0\n",
      "31043     939.0\n",
      "31044    1115.0\n",
      "31045     399.0\n",
      "31046     791.0\n",
      "Name: EMA_1, Length: 31047, dtype: float64\n",
      "0         376.0\n",
      "1        1449.0\n",
      "2         453.0\n",
      "3         729.0\n",
      "4         544.0\n",
      "          ...  \n",
      "31042     565.0\n",
      "31043     939.0\n",
      "31044    1115.0\n",
      "31045     399.0\n",
      "31046     791.0\n",
      "Name: SMA_1, Length: 31047, dtype: float64\n"
     ]
    }
   ],
   "source": [
    "# Moving Average (SMA and EMA )\n",
    "df['Date'] = pd.to_datetime(df['Date'])\n",
    "\n",
    "df['SMA_1'] = df['Amount'].rolling(window=1).mean()\n",
    "df['EMA_1'] = df['Amount'].ewm(span=1, adjust=False).mean()\n",
    "\n",
    "# Print the result\n",
    "print(df['EMA_1'])\n",
    "print(df['SMA_1'])"
   ]
  },
  {
   "cell_type": "code",
   "execution_count": null,
   "id": "95035b8f-59c7-43d1-8636-963e59321b3b",
   "metadata": {},
   "outputs": [],
   "source": []
  }
 ],
 "metadata": {
  "kernelspec": {
   "display_name": "Python 3 (ipykernel)",
   "language": "python",
   "name": "python3"
  },
  "language_info": {
   "codemirror_mode": {
    "name": "ipython",
    "version": 3
   },
   "file_extension": ".py",
   "mimetype": "text/x-python",
   "name": "python",
   "nbconvert_exporter": "python",
   "pygments_lexer": "ipython3",
   "version": "3.12.7"
  }
 },
 "nbformat": 4,
 "nbformat_minor": 5
}
