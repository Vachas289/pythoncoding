{
 "cells": [
  {
   "cell_type": "code",
   "execution_count": 5,
   "id": "9ae6cfb0-2dd4-4384-babf-5339d1545cda",
   "metadata": {},
   "outputs": [
    {
     "data": {
      "text/plain": [
       "'Suppose you flip a coin 5 times (i.e., 𝑛=5). \\nThe probability of getting a head (success) on each flip is 0.6, \\nand the probability of getting a tail (failure) is 1−0.6=0.4\\nWhat is the probability of getting exactly 3 heads in 5 flips?\\n '"
      ]
     },
     "execution_count": 5,
     "metadata": {},
     "output_type": "execute_result"
    }
   ],
   "source": [
    "\"\"\"Suppose you flip a coin 5 times (i.e., 𝑛=5). \n",
    "The probability of getting a head (success) on each flip is 0.6, \n",
    "and the probability of getting a tail (failure) is 1−0.6=0.4\n",
    "What is the probability of getting exactly 3 heads in 5 flips?\n",
    " \"\"\""
   ]
  },
  {
   "cell_type": "code",
   "execution_count": 4,
   "id": "4c7807f0-727e-412b-92c5-391d14204c4f",
   "metadata": {},
   "outputs": [
    {
     "name": "stdout",
     "output_type": "stream",
     "text": [
      "0.3456\n",
      "0.6630\n"
     ]
    }
   ],
   "source": [
    "from scipy.stats import binom\n",
    "\n",
    "n = 5      \n",
    "probability_success = 0.6  \n",
    "x = 3\n",
    "\n",
    "pdf = binom.pmf(x, n, probability_success)\n",
    "print(f\"{pdf:.4f}\")\n",
    "\n",
    "cdf = binom.cdf(x, n, probability_success)\n",
    "print(f\"{cdf:.4f}\")"
   ]
  },
  {
   "cell_type": "code",
   "execution_count": null,
   "id": "faddf947-35d6-45bd-9f85-f430c475c78f",
   "metadata": {},
   "outputs": [],
   "source": []
  }
 ],
 "metadata": {
  "kernelspec": {
   "display_name": "Python 3 (ipykernel)",
   "language": "python",
   "name": "python3"
  },
  "language_info": {
   "codemirror_mode": {
    "name": "ipython",
    "version": 3
   },
   "file_extension": ".py",
   "mimetype": "text/x-python",
   "name": "python",
   "nbconvert_exporter": "python",
   "pygments_lexer": "ipython3",
   "version": "3.12.7"
  }
 },
 "nbformat": 4,
 "nbformat_minor": 5
}
