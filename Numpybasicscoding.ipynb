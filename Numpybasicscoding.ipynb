{
 "cells": [
  {
   "cell_type": "code",
   "execution_count": 1,
   "id": "0d4c41e0-9f55-4310-a962-e64646282a1b",
   "metadata": {},
   "outputs": [
    {
     "name": "stdout",
     "output_type": "stream",
     "text": [
      "Requirement already satisfied: numpy in c:\\users\\al6436\\appdata\\local\\anaconda3\\lib\\site-packages (1.26.4)\n",
      "Note: you may need to restart the kernel to use updated packages.\n"
     ]
    }
   ],
   "source": [
    "pip install numpy\n"
   ]
  },
  {
   "cell_type": "code",
   "execution_count": 2,
   "id": "ef90b740-9f04-4f49-a290-3237bdcd8023",
   "metadata": {},
   "outputs": [],
   "source": [
    "import numpy as np"
   ]
  },
  {
   "cell_type": "code",
   "execution_count": 4,
   "id": "5ba98815-a3e4-4cbf-a0b1-6eaddba30ebe",
   "metadata": {},
   "outputs": [
    {
     "name": "stdout",
     "output_type": "stream",
     "text": [
      "[1 2 3 4]\n"
     ]
    }
   ],
   "source": [
    "\"Making an  one dimentional Array\"\n",
    "arr1= np.array([1,2,3,4])\n",
    "print(arr1)"
   ]
  },
  {
   "cell_type": "code",
   "execution_count": 5,
   "id": "7590008e-1bf6-456d-905f-00a41308ff89",
   "metadata": {},
   "outputs": [
    {
     "name": "stdout",
     "output_type": "stream",
     "text": [
      "[[1 2]\n",
      " [2 3]\n",
      " [3 4]]\n"
     ]
    }
   ],
   "source": [
    "\" Making an multi dimentional Array\"\n",
    "arr2=np.array([(1,2),(2,3),(3,4)])\n",
    "print(arr2)"
   ]
  },
  {
   "cell_type": "code",
   "execution_count": 8,
   "id": "35b3880a-04c4-4acf-8408-cd7f869c9846",
   "metadata": {},
   "outputs": [
    {
     "name": "stdout",
     "output_type": "stream",
     "text": [
      "(3, 2)\n",
      "6\n"
     ]
    }
   ],
   "source": [
    "\"Shape and Size\"\n",
    "print(arr2.shape)\n",
    "print(arr2.size)"
   ]
  },
  {
   "cell_type": "code",
   "execution_count": 14,
   "id": "1abad490-b5b0-45e0-9985-fdee7fdde9bb",
   "metadata": {},
   "outputs": [
    {
     "name": "stdout",
     "output_type": "stream",
     "text": [
      "[ 6  8 10 12]\n",
      "[-4 -4 -4 -4]\n",
      "[ 5 12 21 32]\n",
      "[0.2        0.33333333 0.42857143 0.5       ]\n"
     ]
    }
   ],
   "source": [
    "arr = np.array([1, 2, 3, 4])\n",
    "arr2 = np.array([5, 6, 7, 8])\n",
    "\"sum\"\n",
    "print(arr + arr2)\n",
    "\n",
    "\"sub\"\n",
    "print(arr - arr2)\n",
    "\n",
    "\"multiplication\"\n",
    "print(arr * arr2)\n",
    "\"division\"\n",
    "print(arr / arr2)\n"
   ]
  },
  {
   "cell_type": "code",
   "execution_count": 16,
   "id": "4d6ab283-f3cb-4cdd-8e80-5798b57705b6",
   "metadata": {},
   "outputs": [
    {
     "name": "stdout",
     "output_type": "stream",
     "text": [
      "[[11 14]\n",
      " [18 23]]\n"
     ]
    }
   ],
   "source": [
    "\"Multiplying Matrics\"\n",
    "arr1=np.array([(1,2),(2,3)])\n",
    "arr2=np.array([(3,4),(4,5)])\n",
    "print(arr1 @ arr2)"
   ]
  },
  {
   "cell_type": "code",
   "execution_count": 17,
   "id": "cc951ceb-648e-417a-ab94-23bb4af1690e",
   "metadata": {},
   "outputs": [
    {
     "name": "stdout",
     "output_type": "stream",
     "text": [
      "[1. 2. 3. 4.]\n",
      "[2.71828183e+00 5.45981500e+01 8.10308393e+03 8.88611052e+06]\n"
     ]
    }
   ],
   "source": [
    "arr = np.array([1, 4, 9, 16])\n",
    "\n",
    "\"Square root\"\n",
    "print(np.sqrt(arr))\n",
    "\n",
    "\"Exp\"\n",
    "print(np.exp(arr))\n"
   ]
  },
  {
   "cell_type": "code",
   "execution_count": 63,
   "id": "e1ab594d-6a1b-4536-accb-151eaa91aae9",
   "metadata": {},
   "outputs": [
    {
     "name": "stdout",
     "output_type": "stream",
     "text": [
      "10\n",
      "2.5\n",
      "1.118033988749895\n",
      "2.5\n",
      "1.25\n",
      "1\n",
      "4\n",
      "1.75\n",
      "2.5\n",
      "3.25\n"
     ]
    }
   ],
   "source": [
    "arr = np.array([1, 2, 3, 4])\n",
    "\n",
    "\"Sum\"\n",
    "print(np.sum(arr))\n",
    "\n",
    "\"Mean\"\n",
    "print(np.mean(arr))\n",
    "\n",
    "\"Standard Deviation\"\n",
    "print(np.std(arr))\n",
    "\"median\"\n",
    "print(np.median(arr))\n",
    "\"varience\"\n",
    "print(np.var(arr))\n",
    "\"min\"\n",
    "print(np.min(arr))\n",
    "\"max\"\n",
    "print(np.max(arr))\n",
    "\"percentile\"\n",
    "print(np.percentile(arr,25))\n",
    "print(np.percentile(arr,50))\n",
    "print(np.percentile(arr,75))\n"
   ]
  },
  {
   "cell_type": "code",
   "execution_count": 24,
   "id": "2fba13a7-4ae7-4d78-b7c7-7210d7a71350",
   "metadata": {},
   "outputs": [
    {
     "name": "stdout",
     "output_type": "stream",
     "text": [
      "[[1 2 3]\n",
      " [4 5 6]]\n"
     ]
    }
   ],
   "source": [
    "\"Reshaping Arrays\"\n",
    "aar=np.array([1,2,3,4,5,6])\n",
    "arr2=arr.reshape(2,3)\n",
    "print(arr2)"
   ]
  },
  {
   "cell_type": "code",
   "execution_count": 31,
   "id": "5d903aff-d3c0-49ad-bdac-3c4b804b32e2",
   "metadata": {},
   "outputs": [
    {
     "name": "stdout",
     "output_type": "stream",
     "text": [
      "[[1 5]\n",
      " [2 6]\n",
      " [3 7]\n",
      " [4 8]]\n"
     ]
    }
   ],
   "source": [
    "\"transpose\"\n",
    "arr=np.array([[1,2,3,4],[5,6,7,8]])\n",
    "print(arr.T)"
   ]
  },
  {
   "cell_type": "code",
   "execution_count": 32,
   "id": "17dcc3bb-2210-4f76-a935-aaafbe63194b",
   "metadata": {},
   "outputs": [
    {
     "name": "stdout",
     "output_type": "stream",
     "text": [
      "6\n"
     ]
    }
   ],
   "source": [
    "\"Indexing\"\n",
    "arr=np.array([1,2,3,4,5,6,7,8])\n",
    "print(arr[5])"
   ]
  },
  {
   "cell_type": "code",
   "execution_count": 33,
   "id": "0944f9b9-a82d-4588-ab53-192e3c017c40",
   "metadata": {},
   "outputs": [
    {
     "name": "stdout",
     "output_type": "stream",
     "text": [
      "[2 3]\n"
     ]
    }
   ],
   "source": [
    "\"Slicing\"\n",
    "arr=np.array([1,2,3,4,5,6,7,8])\n",
    "print(arr[1:3])"
   ]
  },
  {
   "cell_type": "code",
   "execution_count": 54,
   "id": "43f098b7-35f9-44f1-82c3-d86ca1ddfa2d",
   "metadata": {},
   "outputs": [
    {
     "name": "stdout",
     "output_type": "stream",
     "text": [
      "[5 6 7 8]\n",
      "[[ 3  4]\n",
      " [ 7  8]\n",
      " [11 12]]\n",
      "78\n",
      "[[ 1  0  3  4]\n",
      " [ 5  0  7  8]\n",
      " [ 9  0 11 12]]\n"
     ]
    }
   ],
   "source": [
    "\"problem Solution\"\n",
    "arr=np.array([[1,2,3,4],\n",
    "              [5,6,7,8],\n",
    "              [9,10,11,12]])\n",
    "\"p1- Extract the second row\"\n",
    "print(arr[1])\n",
    "\"p2- Extract the last two columns \"\n",
    "print(arr[:, -2:])\n",
    "\"p3- Find the sum of all elements\"\n",
    "print(arr.sum())\n",
    "\"p4- Replace all values in the second column with zeros\"\n",
    "arr[:,1]=0\n",
    "print(arr)"
   ]
  },
  {
   "cell_type": "code",
   "execution_count": 55,
   "id": "ba623409-2839-4394-b034-eba3f010fbd5",
   "metadata": {},
   "outputs": [
    {
     "name": "stdout",
     "output_type": "stream",
     "text": [
      "[11 12 13 14]\n"
     ]
    }
   ],
   "source": [
    "\"broadcasting\"\n",
    "arr = np.array([1, 2, 3, 4])\n",
    "\n",
    "\"Add a scalar value to an array\"\n",
    "finalarr = arr + 10\n",
    "print(finalarr)\n"
   ]
  },
  {
   "cell_type": "code",
   "execution_count": 56,
   "id": "631e64a5-c0d0-4a6a-99cb-336a4608f0f7",
   "metadata": {},
   "outputs": [
    {
     "name": "stdout",
     "output_type": "stream",
     "text": [
      "[[11 22 33]\n",
      " [14 25 36]]\n"
     ]
    }
   ],
   "source": [
    "arr2d = np.array([[1, 2, 3], \n",
    "                  [4, 5, 6]])\n",
    "\n",
    "arr1d = np.array([10, 20, 30])\n",
    "\n",
    "\"Add the 2D array and the 1D array\"\n",
    "finalarr2 = arr2d + arr1d\n",
    "print(finalarr2)\n"
   ]
  },
  {
   "cell_type": "code",
   "execution_count": null,
   "id": "fa50013e-fbbd-4c1e-8449-ebb325af63cd",
   "metadata": {},
   "outputs": [],
   "source": []
  }
 ],
 "metadata": {
  "kernelspec": {
   "display_name": "Python 3 (ipykernel)",
   "language": "python",
   "name": "python3"
  },
  "language_info": {
   "codemirror_mode": {
    "name": "ipython",
    "version": 3
   },
   "file_extension": ".py",
   "mimetype": "text/x-python",
   "name": "python",
   "nbconvert_exporter": "python",
   "pygments_lexer": "ipython3",
   "version": "3.12.7"
  }
 },
 "nbformat": 4,
 "nbformat_minor": 5
}
